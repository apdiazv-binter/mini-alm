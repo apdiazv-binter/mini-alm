{
 "cells": [
  {
   "cell_type": "markdown",
   "metadata": {},
   "source": [
    "# Demo de Simulación de Balance - Cantidad de Inversiones"
   ]
  },
  {
   "cell_type": "markdown",
   "metadata": {},
   "source": [
    "## Configuración inicial de librerías"
   ]
  },
  {
   "cell_type": "code",
   "execution_count": 1,
   "metadata": {},
   "outputs": [],
   "source": [
    "# Contiene las clases Operacion, Caja y Banco.\n",
    "import simula_balance as sb\n",
    "\n",
    "# Contiene las reglas de renovación, por ejemplo,\n",
    "# toda la caja a overnight.\n",
    "import reglas_renovacion as rn\n",
    "\n",
    "# Contiene las métricas, por ejemplo, el C46.\n",
    "import metricas as met\n",
    "\n",
    "# Se usa pandas sólo para desplegar claramente el gap de liquidez.\n",
    "import pandas as pd"
   ]
  },
  {
   "cell_type": "markdown",
   "metadata": {},
   "source": [
    "## t = 0: Configuración inicial del Banco"
   ]
  },
  {
   "cell_type": "code",
   "execution_count": 2,
   "metadata": {},
   "outputs": [],
   "source": [
    "# Monto de capital\n",
    "capital = 10.0\n",
    "\n",
    "# Sobre este objeto caen los vencimientos de activos y pasivos.\n",
    "# De aquí se obtiene el dinero para captaciones y colocaciones,\n",
    "# toda operación, al iniciarse, tiene su correspondiente movimiento\n",
    "# en la caja.\n",
    "caja = sb.Caja()\n",
    "\n",
    "# Construimos un Banco muy sencillo con una colocación bullet\n",
    "# y una captación (también bullet).\n",
    "# Lo primero son las tasas de mercado\n",
    "mercado = {'on_col': 0.0, 'on_cap':0.0,\n",
    "           'depo2':0.0312, 'depo3':0.033,'depo4':0.0348,\n",
    "           'inversion':0.027, 'colocacion':0.045}\n",
    "\n",
    "credito = sb.Operacion(mercado['colocacion'], 0, 6, 100, {'id':'1', 'ap':'activo', 'producto':'credito'})\n",
    "deposito1 = sb.Operacion(mercado['depo2'], 0, 2, 45, {'id':'1', 'ap':'pasivo', 'producto':'depo'})\n",
    "deposito2 = sb.Operacion(mercado['depo4'], 0, 4, 45, {'id':'2', 'ap':'pasivo', 'producto':'depo'})\n",
    "banco = sb.Banco(caja, [credito, deposito1, deposito2], capital)"
   ]
  },
  {
   "cell_type": "markdown",
   "metadata": {},
   "source": [
    "### Se construye y muestra el gap de liquidez inicial del banco."
   ]
  },
  {
   "cell_type": "code",
   "execution_count": 3,
   "metadata": {},
   "outputs": [
    {
     "name": "stdout",
     "output_type": "stream",
     "text": [
      "Gap de Liquidez a tiempo t =  0\n",
      "     0  1       2  3       4  5       6  7  8\n",
      "0  0.0  0 -45.702  0 -46.566  0  106.75  0  0\n",
      "c46:  0\n"
     ]
    }
   ],
   "source": [
    "# Se determina el gap de liquidez del Banco.\n",
    "gap = met.construye_gap_liquidez(banco)\n",
    "\n",
    "# El gap de liquidez se guarda en un dataframe para imprimirlo bien.\n",
    "pd_gap = pd.DataFrame([gap()])\n",
    "\n",
    "# Se muestra el resultado\n",
    "print \"Gap de Liquidez a tiempo t = \", banco.tiempo_actual()\n",
    "print pd_gap\n",
    "print 'c46: ', met.c46(banco)"
   ]
  },
  {
   "cell_type": "markdown",
   "metadata": {},
   "source": [
    "### Se muestra el estado de resultados inicial."
   ]
  },
  {
   "cell_type": "code",
   "execution_count": 4,
   "metadata": {},
   "outputs": [
    {
     "data": {
      "text/plain": [
       "{'activo': {'intereses_devengados': 0.0, 'intereses_recibidos': 0.0},\n",
       " 'pasivo': {'intereses_devengados': 0.0, 'intereses_pagados': 0.0}}"
      ]
     },
     "execution_count": 4,
     "metadata": {},
     "output_type": "execute_result"
    }
   ],
   "source": [
    "# Se calcula y muestra, no se almacena.\n",
    "banco.estado_resultados()"
   ]
  },
  {
   "cell_type": "markdown",
   "metadata": {},
   "source": [
    "### Se muestra el balance inicial."
   ]
  },
  {
   "cell_type": "code",
   "execution_count": 5,
   "metadata": {},
   "outputs": [
    {
     "data": {
      "text/plain": [
       "{'activo': {'caja': 0.0, 'credito': 100.0},\n",
       " 'pasivo': {'depo': -90.0, 'sobregiro': 0.0},\n",
       " 'patrimonio': {'capital_pagado': -10.0}}"
      ]
     },
     "execution_count": 5,
     "metadata": {},
     "output_type": "execute_result"
    }
   ],
   "source": [
    "# Se calcula y muestra, no se almacena.\n",
    "banco.balance()"
   ]
  },
  {
   "cell_type": "markdown",
   "metadata": {},
   "source": [
    "Vamos a definir algunas funciones auxiliares que harán menos verboso el ejercicio:"
   ]
  },
  {
   "cell_type": "code",
   "execution_count": 6,
   "metadata": {},
   "outputs": [],
   "source": [
    "# Variable que establece los plazos y porcentajes de renovación a cada plazo.\n",
    "# Si tenemos x:y significa que al plazo x (medido en número de períodos) se hace un y% del monto necesario.\n",
    "plazos = {2:50, 4:50}\n",
    "\n",
    "def muestra_gap():\n",
    "    # se determina la situación de liquidez y\n",
    "    gap = met.construye_gap_liquidez(banco)\n",
    "    pd_gap = pd.DataFrame([gap()])\n",
    "\n",
    "    # se muestra el resultado.\n",
    "    print \"Gap de Liquidez a tiempo t = \", banco.tiempo_actual()\n",
    "    print pd_gap\n",
    "    print 'c46: ', met.c46(banco)\n",
    "    return\n",
    "\n",
    "def muestra_resultados():\n",
    "    # Calcula y muestra el estado de resultados\n",
    "    er = banco.estado_resultados()\n",
    "    for key in er:\n",
    "        print key, er[key]\n",
    "    return\n",
    "\n",
    "def muestra_balance():\n",
    "    # Calcula y muestra el balance\n",
    "    bal = banco.balance()\n",
    "    for key in bal:\n",
    "        print key, bal[key]\n",
    "    return\n",
    "\n",
    "def muestra_operaciones(t):\n",
    "    # Muestra los flujos de las operaciones del banco\n",
    "    activos = banco.activos()\n",
    "    print 'Activos:'\n",
    "    print 'prod\\t', 'plazo\\t', 'monto\\t', 'int_dev\\t', 'flujo\\t'\n",
    "    for act in activos:\n",
    "        print act.atributos()['producto'], act.vencimiento(), act.vencimiento() - t, act.monto(), act.interes_devengado(t), act.flujo()\n",
    "        \n",
    "    pasivos = banco.pasivos()\n",
    "    print 'Pasivos:'\n",
    "    print 'prod\\t', 'plazo\\t', 'monto\\t', 'int_dev\\t', 'flujo\\t'\n",
    "    for pas in pasivos:\n",
    "        print pas.atributos()['producto'], pas.vencimiento(), pas.vencimiento() - t, pas.monto(), pas.interes_devengado(t), pas.flujo()\n",
    "\n",
    "def avanza():\n",
    "    # Se avanza un período en el tiempo,\n",
    "    banco.avanza()\n",
    "\n",
    "    # se determina la nueva situación de liquidez y\n",
    "    # se muestra.\n",
    "    muestra_gap()\n",
    "    \n",
    "    print\n",
    "    \n",
    "    # Se calcula y muestra el EERR.\n",
    "    muestra_resultados()\n",
    "    \n",
    "    print\n",
    "    \n",
    "    # Se calcula y muestra el balance\n",
    "    muestra_balance()\n",
    "        \n",
    "    print\n",
    "    \n",
    "    # Se muestran las operaciones\n",
    "    muestra_operaciones(banco.tiempo_actual())\n",
    "    return\n",
    "    \n",
    "def renueva_depo():\n",
    "    # Se renueva el depósito\n",
    "    rn.renueva_depos(banco, plazos)\n",
    "\n",
    "    # se determina la nueva situación de liquidez y\n",
    "    # se muestra\n",
    "    muestra_gap()\n",
    "    return\n",
    "\n",
    "def toma_inversiones():\n",
    "    # Se renueva la inversión\n",
    "    rn.inversion(banco)\n",
    "\n",
    "    # se determina la nueva situación de liquidez y\n",
    "    # se muestra.\n",
    "    muestra_gap()\n",
    "    return\n",
    "\n",
    "def arregla_c46():\n",
    "    # Se arregla el C46,\n",
    "    rn.cumple_c46(banco, plazos)\n",
    "\n",
    "    # Se muestra gap\n",
    "    muestra_gap()\n",
    "    \n",
    "def ratio_inv():\n",
    "    return round(banco.inv_sobre_col() * 100)"
   ]
  },
  {
   "cell_type": "code",
   "execution_count": 7,
   "metadata": {},
   "outputs": [
    {
     "data": {
      "text/plain": [
       "0.0"
      ]
     },
     "execution_count": 7,
     "metadata": {},
     "output_type": "execute_result"
    }
   ],
   "source": [
    "ratio_inv()"
   ]
  },
  {
   "cell_type": "markdown",
   "metadata": {},
   "source": [
    "## t = 1: Se avanza un período en el tiempo y se muestra la nueva situación de liquidez, el EERR, el balance y las operaciones (vigentes y vencidas)."
   ]
  },
  {
   "cell_type": "code",
   "execution_count": 8,
   "metadata": {},
   "outputs": [
    {
     "name": "stdout",
     "output_type": "stream",
     "text": [
      "Gap de Liquidez a tiempo t =  1\n",
      "     0       1  2       3  4       5  6  7  8\n",
      "0  0.0 -45.702  0 -46.566  0  106.75  0  0  0\n",
      "c46:  25.702\n",
      "\n",
      "activo {'intereses_devengados': 1.125, 'intereses_recibidos': 0.0}\n",
      "pasivo {'intereses_pagados': 0.0, 'intereses_devengados': 0.7424999999999999}\n",
      "\n",
      "patrimonio {'capital_pagado': -10.0}\n",
      "activo {'caja': 0.0, 'credito': 101.125}\n",
      "pasivo {'depo': -90.7425, 'sobregiro': 0.0}\n",
      "\n",
      "Activos:\n",
      "prod\tplazo\tmonto\tint_dev\tflujo\t\n",
      "credito 6.0 5.0 100.0 1.125 106.75\n",
      "Pasivos:\n",
      "prod\tplazo\tmonto\tint_dev\tflujo\t\n",
      "depo 2.0 1.0 45.0 0.351 45.702\n",
      "depo 4.0 3.0 45.0 0.3915 46.566\n"
     ]
    }
   ],
   "source": [
    "# Se avanza un período en el tiempo,\n",
    "avanza()"
   ]
  },
  {
   "cell_type": "markdown",
   "metadata": {},
   "source": [
    "### Se \"arregla\" el C46. Se compran inversiones financiándolas con depósitos a los plazos indicados en la variable **plazos**."
   ]
  },
  {
   "cell_type": "code",
   "execution_count": 9,
   "metadata": {},
   "outputs": [
    {
     "name": "stdout",
     "output_type": "stream",
     "text": [
      "Gap de Liquidez a tiempo t =  1\n",
      "     0        1        2       3        4       5  6  7  8\n",
      "0  0.0 -19.8265 -13.0515 -46.566 -13.2982  106.75  0  0  0\n",
      "c46:  0\n"
     ]
    }
   ],
   "source": [
    "# Se arregla el C46.\n",
    "arregla_c46()"
   ]
  },
  {
   "cell_type": "code",
   "execution_count": 10,
   "metadata": {},
   "outputs": [
    {
     "name": "stdout",
     "output_type": "stream",
     "text": [
      "Activos:\n",
      "prod\tplazo\tmonto\tint_dev\tflujo\t\n",
      "credito 6.0 5.0 100.0 1.125 106.75\n",
      "inversion 2.0 1.0 25.702 0.0 25.8755\n",
      "Pasivos:\n",
      "prod\tplazo\tmonto\tint_dev\tflujo\t\n",
      "depo 2.0 1.0 45.0 0.351 45.702\n",
      "depo 4.0 3.0 45.0 0.3915 46.566\n",
      "depo 3.0 2.0 12.851 0.0 13.0515\n",
      "depo 5.0 4.0 12.851 0.0 13.2982\n"
     ]
    }
   ],
   "source": [
    "muestra_operaciones(1)"
   ]
  },
  {
   "cell_type": "code",
   "execution_count": 11,
   "metadata": {},
   "outputs": [
    {
     "name": "stdout",
     "output_type": "stream",
     "text": [
      "patrimonio {'capital_pagado': -10.0}\n",
      "activo {'inversion': 25.702, 'caja': 0.0, 'credito': 101.125}\n",
      "pasivo {'depo': -116.4445, 'sobregiro': 0.0}\n"
     ]
    }
   ],
   "source": [
    "muestra_balance()"
   ]
  },
  {
   "cell_type": "code",
   "execution_count": 12,
   "metadata": {},
   "outputs": [
    {
     "name": "stdout",
     "output_type": "stream",
     "text": [
      "activo {'intereses_devengados': 1.125, 'intereses_recibidos': 0.0}\n",
      "pasivo {'intereses_pagados': 0.0, 'intereses_devengados': 0.7424999999999999}\n"
     ]
    }
   ],
   "source": [
    "muestra_resultados()"
   ]
  },
  {
   "cell_type": "code",
   "execution_count": 13,
   "metadata": {},
   "outputs": [
    {
     "data": {
      "text/plain": [
       "25.0"
      ]
     },
     "execution_count": 13,
     "metadata": {},
     "output_type": "execute_result"
    }
   ],
   "source": [
    "ratio_inv()"
   ]
  },
  {
   "cell_type": "markdown",
   "metadata": {},
   "source": [
    "## t = 2: Se avanza nuevamente en el tiempo y se determina la nueva situación de liquidez."
   ]
  },
  {
   "cell_type": "code",
   "execution_count": 14,
   "metadata": {},
   "outputs": [
    {
     "name": "stdout",
     "output_type": "stream",
     "text": [
      "Gap de Liquidez a tiempo t =  2\n",
      "         0        1       2        3       4  5  6  7  8\n",
      "0 -19.8265 -13.0515 -46.566 -13.2982  106.75  0  0  0  0\n",
      "c46:  12.878\n",
      "\n",
      "activo {'intereses_devengados': 2.25, 'intereses_recibidos': 0.1735}\n",
      "pasivo {'intereses_pagados': 0.702, 'intereses_devengados': 0.995}\n",
      "\n",
      "patrimonio {'capital_pagado': -10.0}\n",
      "activo {'inversion': 0.0, 'caja': 0.0, 'credito': 102.25}\n",
      "pasivo {'depo': -71.697, 'sobregiro': -19.8265}\n",
      "\n",
      "Activos:\n",
      "prod\tplazo\tmonto\tint_dev\tflujo\t\n",
      "credito 6.0 4.0 100.0 2.25 106.75\n",
      "inversion 2.0 0.0 25.702 0.0 25.8755\n",
      "Pasivos:\n",
      "prod\tplazo\tmonto\tint_dev\tflujo\t\n",
      "depo 2.0 0.0 45.0 0.0 45.702\n",
      "depo 4.0 2.0 45.0 0.783 46.566\n",
      "depo 3.0 1.0 12.851 0.1002 13.0515\n",
      "depo 5.0 3.0 12.851 0.1118 13.2982\n"
     ]
    }
   ],
   "source": [
    "# Se avanza un período en el tiempo,\n",
    "avanza()"
   ]
  },
  {
   "cell_type": "code",
   "execution_count": 15,
   "metadata": {},
   "outputs": [
    {
     "data": {
      "text/plain": [
       "[('capital', 0, 10.0),\n",
       " ('1credito', 0, -100.0),\n",
       " ('1depo', 0, 45.0),\n",
       " ('2depo', 0, 45.0),\n",
       " ('1-invinversion', 1, -25.702),\n",
       " ('1-fin_invdepo', 1, 12.851),\n",
       " ('1-fin_invdepo', 1, 12.851),\n",
       " ('1depo', 2, -45.702),\n",
       " ('1-invinversion', 2, 25.8755)]"
      ]
     },
     "execution_count": 15,
     "metadata": {},
     "output_type": "execute_result"
    }
   ],
   "source": [
    "banco._caja._movimientos"
   ]
  },
  {
   "cell_type": "markdown",
   "metadata": {},
   "source": [
    "### El déficit de caja se debe al vencimiento por 45.702 de depósitos comparado con 25.8755 de inversiones. Vamos a renovar el depósito y la inversión."
   ]
  },
  {
   "cell_type": "code",
   "execution_count": 16,
   "metadata": {},
   "outputs": [
    {
     "name": "stdout",
     "output_type": "stream",
     "text": [
      "Gap de Liquidez a tiempo t =  2\n",
      "         0        1        2        3        4  5  6  7  8\n",
      "0  25.8755 -13.0515 -69.7735 -13.2982  83.1038  0  0  0  0\n",
      "c46:  0\n"
     ]
    }
   ],
   "source": [
    "# Se renueva el depósito\n",
    "renueva_depo()"
   ]
  },
  {
   "cell_type": "code",
   "execution_count": 17,
   "metadata": {},
   "outputs": [
    {
     "name": "stdout",
     "output_type": "stream",
     "text": [
      "Activos:\n",
      "prod\tplazo\tmonto\tint_dev\tflujo\t\n",
      "credito 6.0 4.0 100.0 2.25 106.75\n",
      "inversion 2.0 0.0 25.702 0.0 25.8755\n",
      "Pasivos:\n",
      "prod\tplazo\tmonto\tint_dev\tflujo\t\n",
      "depo 2.0 0.0 45.0 0.0 45.702\n",
      "depo 4.0 2.0 45.0 0.783 46.566\n",
      "depo 3.0 1.0 12.851 0.1002 13.0515\n",
      "depo 5.0 3.0 12.851 0.1118 13.2982\n",
      "depo 4.0 2.0 22.851 0.0 23.2075\n",
      "depo 6.0 4.0 22.851 0.0 23.6462\n"
     ]
    }
   ],
   "source": [
    "muestra_operaciones(2)"
   ]
  },
  {
   "cell_type": "code",
   "execution_count": 18,
   "metadata": {},
   "outputs": [
    {
     "name": "stdout",
     "output_type": "stream",
     "text": [
      "Gap de Liquidez a tiempo t =  2\n",
      "         0        1        2        3        4  5  6  7  8\n",
      "0  25.8755 -13.0515 -69.7735 -13.2982  83.1038  0  0  0  0\n",
      "c46:  0\n"
     ]
    }
   ],
   "source": [
    "muestra_gap()"
   ]
  },
  {
   "cell_type": "markdown",
   "metadata": {},
   "source": [
    "### El C46 está Ok, pero hay que renovar la inversión."
   ]
  },
  {
   "cell_type": "code",
   "execution_count": 19,
   "metadata": {},
   "outputs": [
    {
     "name": "stdout",
     "output_type": "stream",
     "text": [
      "Gap de Liquidez a tiempo t =  2\n",
      "     0        1        2        3        4  5  6  7  8\n",
      "0  0.0  12.9987 -69.7735 -13.2982  83.1038  0  0  0  0\n",
      "c46:  0\n"
     ]
    }
   ],
   "source": [
    "# Se renueva la inversión\n",
    "toma_inversiones()"
   ]
  },
  {
   "cell_type": "code",
   "execution_count": 20,
   "metadata": {},
   "outputs": [
    {
     "name": "stdout",
     "output_type": "stream",
     "text": [
      "Activos:\n",
      "prod\tplazo\tmonto\tint_dev\tflujo\t\n",
      "credito 6.0 4.0 100.0 2.25 106.75\n",
      "inversion 2.0 0.0 25.702 0.0 25.8755\n",
      "inversion 3.0 1.0 25.8755 0.0 26.0502\n",
      "Pasivos:\n",
      "prod\tplazo\tmonto\tint_dev\tflujo\t\n",
      "depo 2.0 0.0 45.0 0.0 45.702\n",
      "depo 4.0 2.0 45.0 0.783 46.566\n",
      "depo 3.0 1.0 12.851 0.1002 13.0515\n",
      "depo 5.0 3.0 12.851 0.1118 13.2982\n",
      "depo 4.0 2.0 22.851 0.0 23.2075\n",
      "depo 6.0 4.0 22.851 0.0 23.6462\n"
     ]
    }
   ],
   "source": [
    "muestra_operaciones(2)"
   ]
  },
  {
   "cell_type": "markdown",
   "metadata": {},
   "source": [
    "### Veamos como queda el balance."
   ]
  },
  {
   "cell_type": "code",
   "execution_count": 21,
   "metadata": {},
   "outputs": [
    {
     "data": {
      "text/plain": [
       "{'activo': {'caja': 0.0, 'credito': 102.25, 'inversion': 25.8755},\n",
       " 'pasivo': {'depo': -117.399, 'sobregiro': 0.0},\n",
       " 'patrimonio': {'capital_pagado': -10.0}}"
      ]
     },
     "execution_count": 21,
     "metadata": {},
     "output_type": "execute_result"
    }
   ],
   "source": [
    "# Se muestra el balance\n",
    "banco.balance()"
   ]
  },
  {
   "cell_type": "code",
   "execution_count": 22,
   "metadata": {},
   "outputs": [
    {
     "name": "stdout",
     "output_type": "stream",
     "text": [
      "activo {'intereses_devengados': 2.25, 'intereses_recibidos': 0.1735}\n",
      "pasivo {'intereses_pagados': 0.702, 'intereses_devengados': 0.995}\n"
     ]
    }
   ],
   "source": [
    "muestra_resultados()"
   ]
  },
  {
   "cell_type": "code",
   "execution_count": 23,
   "metadata": {},
   "outputs": [
    {
     "data": {
      "text/plain": [
       "25.0"
      ]
     },
     "execution_count": 23,
     "metadata": {},
     "output_type": "execute_result"
    }
   ],
   "source": [
    "ratio_inv()"
   ]
  },
  {
   "cell_type": "markdown",
   "metadata": {},
   "source": [
    "## t = 3: Se avanza nuevamente en el tiempo y se determina la nueva situación de liquidez."
   ]
  },
  {
   "cell_type": "code",
   "execution_count": 24,
   "metadata": {},
   "outputs": [
    {
     "name": "stdout",
     "output_type": "stream",
     "text": [
      "Gap de Liquidez a tiempo t =  3\n",
      "         0        1        2        3  4  5  6  7  8\n",
      "0  12.9987 -69.7735 -13.2982  83.1038  0  0  0  0  0\n",
      "c46:  36.7748\n",
      "\n",
      "activo {'intereses_devengados': 3.375, 'intereses_recibidos': 0.34819999999999995}\n",
      "pasivo {'intereses_pagados': 0.9025, 'intereses_devengados': 1.7751000000000001}\n",
      "\n",
      "patrimonio {'capital_pagado': -10.0}\n",
      "activo {'inversion': 0.0, 'caja': 12.9987, 'credito': 103.375}\n",
      "pasivo {'depo': -105.3281, 'sobregiro': 0.0}\n",
      "\n",
      "Activos:\n",
      "prod\tplazo\tmonto\tint_dev\tflujo\t\n",
      "credito 6.0 3.0 100.0 3.375 106.75\n",
      "inversion 2.0 -1.0 25.702 0.0 25.8755\n",
      "inversion 3.0 0.0 25.8755 0.0 26.0502\n",
      "Pasivos:\n",
      "prod\tplazo\tmonto\tint_dev\tflujo\t\n",
      "depo 2.0 -1.0 45.0 0.0 45.702\n",
      "depo 4.0 1.0 45.0 1.1745 46.566\n",
      "depo 3.0 0.0 12.851 0.0 13.0515\n",
      "depo 5.0 2.0 12.851 0.2236 13.2982\n",
      "depo 4.0 1.0 22.851 0.1782 23.2075\n",
      "depo 6.0 3.0 22.851 0.1988 23.6462\n"
     ]
    }
   ],
   "source": [
    "# Se avanza un período en el tiempo\n",
    "avanza()"
   ]
  },
  {
   "cell_type": "markdown",
   "metadata": {},
   "source": [
    "## Veamos los movimientos de caja."
   ]
  },
  {
   "cell_type": "code",
   "execution_count": 25,
   "metadata": {},
   "outputs": [
    {
     "data": {
      "text/plain": [
       "[('capital', 0, 10.0),\n",
       " ('1credito', 0, -100.0),\n",
       " ('1depo', 0, 45.0),\n",
       " ('2depo', 0, 45.0),\n",
       " ('1-invinversion', 1, -25.702),\n",
       " ('1-fin_invdepo', 1, 12.851),\n",
       " ('1-fin_invdepo', 1, 12.851),\n",
       " ('1depo', 2, -45.702),\n",
       " ('1-invinversion', 2, 25.8755),\n",
       " ('r1depo', 2, 22.851),\n",
       " ('r1depo', 2, 22.851),\n",
       " ('inv-2-1inversion', 2, -25.8755),\n",
       " ('1-fin_invdepo', 3, -13.0515),\n",
       " ('inv-2-1inversion', 3, 26.0502)]"
      ]
     },
     "execution_count": 25,
     "metadata": {},
     "output_type": "execute_result"
    }
   ],
   "source": [
    "banco._caja._movimientos"
   ]
  },
  {
   "cell_type": "markdown",
   "metadata": {},
   "source": [
    "## Se renueva el depósito, pero ya no tiene sentido irse a 1Y."
   ]
  },
  {
   "cell_type": "code",
   "execution_count": 26,
   "metadata": {},
   "outputs": [
    {
     "name": "stdout",
     "output_type": "stream",
     "text": [
      "Gap de Liquidez a tiempo t =  3\n",
      "         0        1        2        3  4  5  6  7  8\n",
      "0  26.0503 -69.7735 -19.9258  76.4165  0  0  0  0  0\n",
      "c46:  23.7232\n"
     ]
    }
   ],
   "source": [
    "# renovar depo.\n",
    "plazos = {2:50, 3:50}\n",
    "renueva_depo()"
   ]
  },
  {
   "cell_type": "code",
   "execution_count": 27,
   "metadata": {},
   "outputs": [
    {
     "name": "stdout",
     "output_type": "stream",
     "text": [
      "Activos:\n",
      "prod\tplazo\tmonto\tint_dev\tflujo\t\n",
      "credito 6.0 3.0 100.0 3.375 106.75\n",
      "inversion 2.0 -1.0 25.702 0.0 25.8755\n",
      "inversion 3.0 0.0 25.8755 0.0 26.0502\n",
      "Pasivos:\n",
      "prod\tplazo\tmonto\tint_dev\tflujo\t\n",
      "depo 2.0 -1.0 45.0 0.0 45.702\n",
      "depo 4.0 1.0 45.0 1.1745 46.566\n",
      "depo 3.0 0.0 12.851 0.0 13.0515\n",
      "depo 5.0 2.0 12.851 0.2236 13.2982\n",
      "depo 4.0 1.0 22.851 0.1782 23.2075\n",
      "depo 6.0 3.0 22.851 0.1988 23.6462\n",
      "depo 5.0 2.0 6.5258 0.0 6.6276\n",
      "depo 6.0 3.0 6.5258 0.0 6.6873\n"
     ]
    }
   ],
   "source": [
    "muestra_operaciones(3)"
   ]
  },
  {
   "cell_type": "markdown",
   "metadata": {},
   "source": [
    "### Hay que arreglar el C46, lo haremos activando la caja en inversiones."
   ]
  },
  {
   "cell_type": "code",
   "execution_count": 28,
   "metadata": {},
   "outputs": [
    {
     "name": "stdout",
     "output_type": "stream",
     "text": [
      "Gap de Liquidez a tiempo t =  3\n",
      "     0        1        2        3  4  5  6  7  8\n",
      "0  0.0 -43.5474 -19.9258  76.4165  0  0  0  0  0\n",
      "c46:  23.5474\n"
     ]
    }
   ],
   "source": [
    "# Se arregla el C46,\n",
    "toma_inversiones()"
   ]
  },
  {
   "cell_type": "code",
   "execution_count": 29,
   "metadata": {},
   "outputs": [
    {
     "name": "stdout",
     "output_type": "stream",
     "text": [
      "Activos:\n",
      "prod\tplazo\tmonto\tint_dev\tflujo\t\n",
      "credito 6.0 3.0 100.0 3.375 106.75\n",
      "inversion 2.0 -1.0 25.702 0.0 25.8755\n",
      "inversion 3.0 0.0 25.8755 0.0 26.0502\n",
      "inversion 4.0 1.0 26.0503 0.0 26.2261\n",
      "Pasivos:\n",
      "prod\tplazo\tmonto\tint_dev\tflujo\t\n",
      "depo 2.0 -1.0 45.0 0.0 45.702\n",
      "depo 4.0 1.0 45.0 1.1745 46.566\n",
      "depo 3.0 0.0 12.851 0.0 13.0515\n",
      "depo 5.0 2.0 12.851 0.2236 13.2982\n",
      "depo 4.0 1.0 22.851 0.1782 23.2075\n",
      "depo 6.0 3.0 22.851 0.1988 23.6462\n",
      "depo 5.0 2.0 6.5258 0.0 6.6276\n",
      "depo 6.0 3.0 6.5258 0.0 6.6873\n"
     ]
    }
   ],
   "source": [
    "muestra_operaciones(3)"
   ]
  },
  {
   "cell_type": "code",
   "execution_count": 30,
   "metadata": {},
   "outputs": [
    {
     "name": "stdout",
     "output_type": "stream",
     "text": [
      "Gap de Liquidez a tiempo t =  3\n",
      "        0        1        2      3  4  5  6  7  8\n",
      "0  0.0794 -19.8411 -31.8832  64.27  0  0  0  0  0\n",
      "c46:  0\n"
     ]
    }
   ],
   "source": [
    "arregla_c46()"
   ]
  },
  {
   "cell_type": "code",
   "execution_count": 31,
   "metadata": {},
   "outputs": [
    {
     "name": "stdout",
     "output_type": "stream",
     "text": [
      "Activos:\n",
      "prod\tplazo\tmonto\tint_dev\tflujo\t\n",
      "credito 6.0 3.0 100.0 3.375 106.75\n",
      "inversion 2.0 -1.0 25.702 0.0 25.8755\n",
      "inversion 3.0 0.0 25.8755 0.0 26.0502\n",
      "inversion 4.0 1.0 26.0503 0.0 26.2261\n",
      "inversion 4.0 1.0 23.5474 0.0 23.7063\n",
      "Pasivos:\n",
      "prod\tplazo\tmonto\tint_dev\tflujo\t\n",
      "depo 2.0 -1.0 45.0 0.0 45.702\n",
      "depo 4.0 1.0 45.0 1.1745 46.566\n",
      "depo 3.0 0.0 12.851 0.0 13.0515\n",
      "depo 5.0 2.0 12.851 0.2236 13.2982\n",
      "depo 4.0 1.0 22.851 0.1782 23.2075\n",
      "depo 6.0 3.0 22.851 0.1988 23.6462\n",
      "depo 5.0 2.0 6.5258 0.0 6.6276\n",
      "depo 6.0 3.0 6.5258 0.0 6.6873\n",
      "depo 5.0 2.0 11.7737 0.0 11.9574\n",
      "depo 6.0 3.0 11.8531 0.0 12.1465\n"
     ]
    }
   ],
   "source": [
    "muestra_operaciones(3)"
   ]
  },
  {
   "cell_type": "code",
   "execution_count": 32,
   "metadata": {},
   "outputs": [
    {
     "data": {
      "text/plain": [
       "48.0"
      ]
     },
     "execution_count": 32,
     "metadata": {},
     "output_type": "execute_result"
    }
   ],
   "source": [
    "ratio_inv()"
   ]
  },
  {
   "cell_type": "markdown",
   "metadata": {},
   "source": [
    "## t = 4. Volvemos a avanzar."
   ]
  },
  {
   "cell_type": "code",
   "execution_count": 33,
   "metadata": {},
   "outputs": [
    {
     "name": "stdout",
     "output_type": "stream",
     "text": [
      "Gap de Liquidez a tiempo t =  4\n",
      "         0        1      2  3  4  5  6  7  8\n",
      "0 -19.7617 -31.8832  64.27  0  0  0  0  0  0\n",
      "c46:  31.6449\n",
      "\n",
      "activo {'intereses_devengados': 4.5, 'intereses_recibidos': 0.6829000000000001}\n",
      "pasivo {'intereses_pagados': 2.8249999999999997, 'intereses_devengados': 1.0272999999999999}\n",
      "\n",
      "patrimonio {'capital_pagado': -10.0}\n",
      "activo {'inversion': 0.0, 'caja': 0.0, 'credito': 104.5}\n",
      "pasivo {'depo': -73.4077, 'sobregiro': -19.7617}\n",
      "\n",
      "Activos:\n",
      "prod\tplazo\tmonto\tint_dev\tflujo\t\n",
      "credito 6.0 2.0 100.0 4.5 106.75\n",
      "inversion 2.0 -2.0 25.702 0.0 25.8755\n",
      "inversion 3.0 -1.0 25.8755 0.0 26.0502\n",
      "inversion 4.0 0.0 26.0503 0.0 26.2261\n",
      "inversion 4.0 0.0 23.5474 0.0 23.7063\n",
      "Pasivos:\n",
      "prod\tplazo\tmonto\tint_dev\tflujo\t\n",
      "depo 2.0 -2.0 45.0 0.0 45.702\n",
      "depo 4.0 0.0 45.0 0.0 46.566\n",
      "depo 3.0 -1.0 12.851 0.0 13.0515\n",
      "depo 5.0 1.0 12.851 0.3354 13.2982\n",
      "depo 4.0 0.0 22.851 0.0 23.2075\n",
      "depo 6.0 2.0 22.851 0.3976 23.6462\n",
      "depo 5.0 1.0 6.5258 0.0509 6.6276\n",
      "depo 6.0 2.0 6.5258 0.0538 6.6873\n",
      "depo 5.0 1.0 11.7737 0.0918 11.9574\n",
      "depo 6.0 2.0 11.8531 0.0978 12.1465\n"
     ]
    }
   ],
   "source": [
    "# Se avanza un período en el tiempo,\n",
    "avanza()"
   ]
  },
  {
   "cell_type": "markdown",
   "metadata": {},
   "source": [
    "### Renovamos el depósito."
   ]
  },
  {
   "cell_type": "code",
   "execution_count": 34,
   "metadata": {},
   "outputs": [
    {
     "name": "stdout",
     "output_type": "stream",
     "text": [
      "Gap de Liquidez a tiempo t =  4\n",
      "         0        1       2  3  4  5  6  7  8\n",
      "0  50.0118 -31.8832 -6.5919  0  0  0  0  0  0\n",
      "c46:  0\n"
     ]
    }
   ],
   "source": [
    "# Se renueva el depósito\n",
    "plazos = {2:100}\n",
    "renueva_depo()"
   ]
  },
  {
   "cell_type": "markdown",
   "metadata": {},
   "source": [
    "### Renovamos la inversión."
   ]
  },
  {
   "cell_type": "code",
   "execution_count": 35,
   "metadata": {},
   "outputs": [
    {
     "name": "stdout",
     "output_type": "stream",
     "text": [
      "Gap de Liquidez a tiempo t =  4\n",
      "     0        1       2  3  4  5  6  7  8\n",
      "0 -0.0  18.4662 -6.5919  0  0  0  0  0  0\n",
      "c46:  0\n"
     ]
    }
   ],
   "source": [
    "# Se renueva la inversión,\n",
    "toma_inversiones()"
   ]
  },
  {
   "cell_type": "code",
   "execution_count": 36,
   "metadata": {},
   "outputs": [
    {
     "data": {
      "text/plain": [
       "48.0"
      ]
     },
     "execution_count": 36,
     "metadata": {},
     "output_type": "execute_result"
    }
   ],
   "source": [
    "ratio_inv()"
   ]
  },
  {
   "cell_type": "markdown",
   "metadata": {},
   "source": [
    "## t = 5: Volvemos a avanzar."
   ]
  },
  {
   "cell_type": "code",
   "execution_count": 37,
   "metadata": {},
   "outputs": [
    {
     "name": "stdout",
     "output_type": "stream",
     "text": [
      "Gap de Liquidez a tiempo t =  5\n",
      "         0       1  2  3  4  5  6  7  8\n",
      "0  18.4662 -6.5919  0  0  0  0  0  0  0\n",
      "c46:  0\n",
      "\n",
      "activo {'intereses_devengados': 5.625, 'intereses_recibidos': 1.0205000000000002}\n",
      "pasivo {'intereses_pagados': 3.5576999999999996, 'intereses_devengados': 1.4439000000000002}\n",
      "\n",
      "patrimonio {'capital_pagado': -10.0}\n",
      "activo {'inversion': 0.0, 'caja': 18.4662, 'credito': 105.625}\n",
      "pasivo {'depo': -112.44729999999998, 'sobregiro': 0.0}\n",
      "\n",
      "Activos:\n",
      "prod\tplazo\tmonto\tint_dev\tflujo\t\n",
      "credito 6.0 1.0 100.0 5.625 106.75\n",
      "inversion 2.0 -3.0 25.702 0.0 25.8755\n",
      "inversion 3.0 -2.0 25.8755 0.0 26.0502\n",
      "inversion 4.0 -1.0 26.0503 0.0 26.2261\n",
      "inversion 4.0 -1.0 23.5474 0.0 23.7063\n",
      "inversion 5.0 0.0 50.0118 0.0 50.3494\n",
      "Pasivos:\n",
      "prod\tplazo\tmonto\tint_dev\tflujo\t\n",
      "depo 2.0 -3.0 45.0 0.0 45.702\n",
      "depo 4.0 -1.0 45.0 0.0 46.566\n",
      "depo 3.0 -2.0 12.851 0.0 13.0515\n",
      "depo 5.0 0.0 12.851 0.0 13.2982\n",
      "depo 4.0 -1.0 22.851 0.0 23.2075\n",
      "depo 6.0 1.0 22.851 0.5964 23.6462\n",
      "depo 5.0 0.0 6.5258 0.0 6.6276\n",
      "depo 6.0 1.0 6.5258 0.1077 6.6873\n",
      "depo 5.0 0.0 11.7737 0.0 11.9574\n",
      "depo 6.0 1.0 11.8531 0.1956 12.1465\n",
      "depo 6.0 1.0 46.566 0.3632 47.2924\n",
      "depo 6.0 1.0 23.2075 0.181 23.5695\n"
     ]
    }
   ],
   "source": [
    "# Se avanza un período en el tiempo,\n",
    "avanza()"
   ]
  },
  {
   "cell_type": "code",
   "execution_count": 38,
   "metadata": {},
   "outputs": [
    {
     "name": "stdout",
     "output_type": "stream",
     "text": [
      "Gap de Liquidez a tiempo t =  5\n",
      "     0        1  2  3  4  5  6  7  8\n",
      "0 -0.0  11.9989  0  0  0  0  0  0  0\n",
      "c46:  0\n"
     ]
    }
   ],
   "source": [
    "# Renuevo inversión\n",
    "toma_inversiones()"
   ]
  },
  {
   "cell_type": "code",
   "execution_count": 39,
   "metadata": {},
   "outputs": [
    {
     "data": {
      "text/plain": [
       "17.0"
      ]
     },
     "execution_count": 39,
     "metadata": {},
     "output_type": "execute_result"
    }
   ],
   "source": [
    "ratio_inv()"
   ]
  },
  {
   "cell_type": "markdown",
   "metadata": {},
   "source": [
    "## t = 6: Volvemos a avanzar."
   ]
  },
  {
   "cell_type": "code",
   "execution_count": 40,
   "metadata": {},
   "outputs": [
    {
     "name": "stdout",
     "output_type": "stream",
     "text": [
      "Gap de Liquidez a tiempo t =  6\n",
      "         0  1  2  3  4  5  6  7  8\n",
      "0  11.9989  0  0  0  0  0  0  0  0\n",
      "c46:  0\n",
      "\n",
      "activo {'intereses_devengados': 0.0, 'intereses_recibidos': 7.895099999999999}\n",
      "pasivo {'intereses_pagados': 5.8962, 'intereses_devengados': 0.0}\n",
      "\n",
      "patrimonio {'capital_pagado': -10.0}\n",
      "activo {'inversion': 0.0, 'caja': 11.9989, 'credito': 0.0}\n",
      "pasivo {'depo': -0.0, 'sobregiro': 0.0}\n",
      "\n",
      "Activos:\n",
      "prod\tplazo\tmonto\tint_dev\tflujo\t\n",
      "credito 6.0 0.0 100.0 0.0 106.75\n",
      "inversion 2.0 -4.0 25.702 0.0 25.8755\n",
      "inversion 3.0 -3.0 25.8755 0.0 26.0502\n",
      "inversion 4.0 -2.0 26.0503 0.0 26.2261\n",
      "inversion 4.0 -2.0 23.5474 0.0 23.7063\n",
      "inversion 5.0 -1.0 50.0118 0.0 50.3494\n",
      "inversion 6.0 0.0 18.4662 0.0 18.5908\n",
      "Pasivos:\n",
      "prod\tplazo\tmonto\tint_dev\tflujo\t\n",
      "depo 2.0 -4.0 45.0 0.0 45.702\n",
      "depo 4.0 -2.0 45.0 0.0 46.566\n",
      "depo 3.0 -3.0 12.851 0.0 13.0515\n",
      "depo 5.0 -1.0 12.851 0.0 13.2982\n",
      "depo 4.0 -2.0 22.851 0.0 23.2075\n",
      "depo 6.0 0.0 22.851 0.0 23.6462\n",
      "depo 5.0 -1.0 6.5258 0.0 6.6276\n",
      "depo 6.0 0.0 6.5258 0.0 6.6873\n",
      "depo 5.0 -1.0 11.7737 0.0 11.9574\n",
      "depo 6.0 0.0 11.8531 0.0 12.1465\n",
      "depo 6.0 0.0 46.566 0.0 47.2924\n",
      "depo 6.0 0.0 23.2075 0.0 23.5695\n"
     ]
    }
   ],
   "source": [
    "# Se avanza un período en el tiempo,\n",
    "avanza()"
   ]
  },
  {
   "cell_type": "code",
   "execution_count": 41,
   "metadata": {},
   "outputs": [
    {
     "name": "stdout",
     "output_type": "stream",
     "text": [
      "('capital', 0, 10.0)\n",
      "('1credito', 0, -100.0)\n",
      "('1depo', 0, 45.0)\n",
      "('2depo', 0, 45.0)\n",
      "('1-invinversion', 1, -25.702)\n",
      "('1-fin_invdepo', 1, 12.851)\n",
      "('1-fin_invdepo', 1, 12.851)\n",
      "('1depo', 2, -45.702)\n",
      "('1-invinversion', 2, 25.8755)\n",
      "('r1depo', 2, 22.851)\n",
      "('r1depo', 2, 22.851)\n",
      "('inv-2-1inversion', 2, -25.8755)\n",
      "('1-fin_invdepo', 3, -13.0515)\n",
      "('inv-2-1inversion', 3, 26.0502)\n",
      "('r1-fin_invdepo', 3, 6.5258)\n",
      "('r1-fin_invdepo', 3, 6.5258)\n",
      "('inv-3-1inversion', 3, -26.0503)\n",
      "('3-invinversion', 3, -23.5474)\n",
      "('3-fin_invdepo', 3, 11.7737)\n",
      "('3-fin_invdepo', 3, 11.8531)\n",
      "('2depo', 4, -46.566)\n",
      "('r1depo', 4, -23.2075)\n",
      "('inv-3-1inversion', 4, 26.2261)\n",
      "('3-invinversion', 4, 23.7063)\n",
      "('r2depo', 4, 46.566)\n",
      "('rr1depo', 4, 23.2075)\n",
      "('inv-4-1inversion', 4, -50.0118)\n",
      "('1-fin_invdepo', 5, -13.2982)\n",
      "('r1-fin_invdepo', 5, -6.6276)\n",
      "('3-fin_invdepo', 5, -11.9574)\n",
      "('inv-4-1inversion', 5, 50.3494)\n",
      "('inv-5-1inversion', 5, -18.4662)\n",
      "('1credito', 6, 106.75)\n",
      "('r1depo', 6, -23.6462)\n",
      "('r1-fin_invdepo', 6, -6.6873)\n",
      "('3-fin_invdepo', 6, -12.1465)\n",
      "('r2depo', 6, -47.2924)\n",
      "('rr1depo', 6, -23.5695)\n",
      "('inv-5-1inversion', 6, 18.5908)\n"
     ]
    }
   ],
   "source": [
    "for x in banco._caja._movimientos:\n",
    "    print x"
   ]
  },
  {
   "cell_type": "code",
   "execution_count": 42,
   "metadata": {},
   "outputs": [],
   "source": [
    "result_6m = 2.1743\n",
    "result_6m_1y = 1.9989"
   ]
  }
 ],
 "metadata": {
  "kernelspec": {
   "display_name": "Python 2",
   "language": "python",
   "name": "python2"
  },
  "language_info": {
   "codemirror_mode": {
    "name": "ipython",
    "version": 2
   },
   "file_extension": ".py",
   "mimetype": "text/x-python",
   "name": "python",
   "nbconvert_exporter": "python",
   "pygments_lexer": "ipython2",
   "version": "2.7.15"
  }
 },
 "nbformat": 4,
 "nbformat_minor": 2
}
