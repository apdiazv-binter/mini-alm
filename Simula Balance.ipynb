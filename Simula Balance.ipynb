{
 "cells": [
  {
   "cell_type": "markdown",
   "metadata": {},
   "source": [
    "# Demo de Simulación de Balance - Cantidad de Inversiones"
   ]
  },
  {
   "cell_type": "markdown",
   "metadata": {},
   "source": [
    "## Configuración inicial de librerías"
   ]
  },
  {
   "cell_type": "code",
   "execution_count": 2,
   "metadata": {},
   "outputs": [],
   "source": [
    "# Contiene las clases Operacion, Caja y Banco.\n",
    "import simula_balance as sb\n",
    "\n",
    "# Contiene las reglas de renovación, por ejemplo,\n",
    "# toda la caja a overnight.\n",
    "import reglas_renovacion as rn\n",
    "\n",
    "# Contiene las métricas, por ejemplo, el C46.\n",
    "import metricas as met\n",
    "\n",
    "# Se usa pandas sólo para desplegar claramente el gap de liquidez.\n",
    "import pandas as pd"
   ]
  },
  {
   "cell_type": "markdown",
   "metadata": {},
   "source": [
    "## t = 0: Configuración inicial del Banco"
   ]
  },
  {
   "cell_type": "code",
   "execution_count": 3,
   "metadata": {},
   "outputs": [],
   "source": [
    "# Monto de capital\n",
    "capital = 10.0\n",
    "\n",
    "# Sobre este objeto caen los vencimientos de activos y pasivos.\n",
    "# De aquí se obtiene el dinero para captaciones y colocaciones,\n",
    "# toda operación, al iniciarse, tiene su correspondiente movimiento\n",
    "# en la caja.\n",
    "caja = sb.Caja()\n",
    "\n",
    "# Construimos un Banco muy sencillo con una colocación bullet\n",
    "# y una captación (también bullet).\n",
    "# Lo primero son las tasas de mercado\n",
    "mercado = {'on_col': 0.0, 'on_cap':0.0,\n",
    "           'depo2':0.0312, 'depo3':0.033, 'depo4':0.0348,\n",
    "           'inversion':0.027, 'colocacion':0.045}\n",
    "\n",
    "credito = sb.Operacion(mercado['colocacion'], 0, 6, 100, {'id':'1', 'ap':'activo', 'producto':'credito'})\n",
    "deposito = sb.Operacion(mercado['depo2'], 0, 2, 90, {'id':'1', 'ap':'pasivo', 'producto':'depo'})\n",
    "banco = sb.Banco(caja, [credito, deposito], capital)"
   ]
  },
  {
   "cell_type": "markdown",
   "metadata": {},
   "source": [
    "### Se construye y muestra el gap de liquidez inicial del banco."
   ]
  },
  {
   "cell_type": "code",
   "execution_count": 4,
   "metadata": {},
   "outputs": [
    {
     "name": "stdout",
     "output_type": "stream",
     "text": [
      "Gap de Liquidez a tiempo t =  0\n",
      "     0  1       2  3  4  5       6  7  8\n",
      "0  0.0  0 -91.404  0  0  0  106.75  0  0\n",
      "c46:  0\n"
     ]
    }
   ],
   "source": [
    "# Se determina el gap de liquidez del Banco.\n",
    "gap = met.construye_gap_liquidez(banco)\n",
    "\n",
    "# El gap de liquidez se guarda en un dataframe para imprimirlo bien.\n",
    "pd_gap = pd.DataFrame([gap()])\n",
    "\n",
    "# Se muestra el resultado\n",
    "print \"Gap de Liquidez a tiempo t = \", banco.tiempo_actual()\n",
    "print pd_gap\n",
    "print 'c46: ', met.c46(banco)"
   ]
  },
  {
   "cell_type": "markdown",
   "metadata": {},
   "source": [
    "### Se muestra el estado de resultados inicial."
   ]
  },
  {
   "cell_type": "code",
   "execution_count": 5,
   "metadata": {},
   "outputs": [
    {
     "data": {
      "text/plain": [
       "{'activo': {'intereses_devengados': 0.0, 'intereses_recibidos': 0.0},\n",
       " 'pasivo': {'intereses_devengados': 0.0, 'intereses_pagados': 0.0}}"
      ]
     },
     "execution_count": 5,
     "metadata": {},
     "output_type": "execute_result"
    }
   ],
   "source": [
    "# Se calcula y muestra, no se almacena.\n",
    "banco.estado_resultados()"
   ]
  },
  {
   "cell_type": "markdown",
   "metadata": {},
   "source": [
    "### Se muestra el balance inicial."
   ]
  },
  {
   "cell_type": "code",
   "execution_count": 6,
   "metadata": {},
   "outputs": [
    {
     "data": {
      "text/plain": [
       "{'activo': {'caja': 0.0, 'credito': 100.0},\n",
       " 'pasivo': {'depo': -90.0, 'sobregiro': 0.0},\n",
       " 'patrimonio': {'capital_pagado': -10.0}}"
      ]
     },
     "execution_count": 6,
     "metadata": {},
     "output_type": "execute_result"
    }
   ],
   "source": [
    "# Se calcula y muestra, no se almacena.\n",
    "banco.balance()"
   ]
  },
  {
   "cell_type": "markdown",
   "metadata": {},
   "source": [
    "Vamos a definir algunas funciones auxiliares que harán menos verboso el ejercicio:"
   ]
  },
  {
   "cell_type": "code",
   "execution_count": 7,
   "metadata": {},
   "outputs": [],
   "source": [
    "# Variable que establece los plazos y porcentajes de renovación a cada plazo.\n",
    "# Si tenemos x:y significa que al plazo x (medido en número de períodos)\n",
    "# se hace un y% del monto necesario.\n",
    "plazos = {2:100}\n",
    "\n",
    "def muestra_gap():\n",
    "    # se determina la situación de liquidez y\n",
    "    gap = met.construye_gap_liquidez(banco)\n",
    "    pd_gap = pd.DataFrame([gap()])\n",
    "\n",
    "    # se muestra el resultado.\n",
    "    print \"Gap de Liquidez a tiempo t = \", banco.tiempo_actual()\n",
    "    print pd_gap\n",
    "    print 'c46: ', met.c46(banco)\n",
    "    return\n",
    "\n",
    "def muestra_resultados():\n",
    "    # Calcula y muestra el estado de resultados\n",
    "    er = banco.estado_resultados()\n",
    "    for key in er:\n",
    "        print key, er[key]\n",
    "    return\n",
    "\n",
    "def muestra_balance():\n",
    "    # Calcula y muestra el balance\n",
    "    bal = banco.balance()\n",
    "    for key in bal:\n",
    "        print key, bal[key]\n",
    "    return\n",
    "\n",
    "def muestra_operaciones(t):\n",
    "    # Muestra los flujos de las operaciones del banco\n",
    "    activos = banco.activos()\n",
    "    print 'Activos:'\n",
    "    print 'prod\\t', 'plazo\\t', 'monto\\t', 'int_dev\\t', 'flujo\\t'\n",
    "    for act in activos:\n",
    "        print act.atributos()['producto'], act.vencimiento(), act.vencimiento() - t, act.monto(), act.interes_devengado(t), act.flujo()\n",
    "        \n",
    "    pasivos = banco.pasivos()\n",
    "    print 'Pasivos:'\n",
    "    print 'prod\\t', 'plazo\\t', 'monto\\t', 'int_dev\\t', 'flujo\\t'\n",
    "    for pas in pasivos:\n",
    "        print pas.atributos()['producto'], pas.vencimiento(), pas.vencimiento() - t, pas.monto(), pas.interes_devengado(t), pas.flujo()\n",
    "\n",
    "def avanza():\n",
    "    # Se avanza un período en el tiempo,\n",
    "    banco.avanza()\n",
    "\n",
    "    # se determina la nueva situación de liquidez y\n",
    "    # se muestra.\n",
    "    muestra_gap()\n",
    "    \n",
    "    print\n",
    "    \n",
    "    # Se calcula y muestra el EERR.\n",
    "    muestra_resultados()\n",
    "    \n",
    "    print\n",
    "    \n",
    "    # Se calcula y muestra el balance\n",
    "    muestra_balance()\n",
    "        \n",
    "    print\n",
    "    \n",
    "    # Se muestran las operaciones\n",
    "    muestra_operaciones(banco.tiempo_actual())\n",
    "    return\n",
    "    \n",
    "def renueva_depo():\n",
    "    # Se renueva el depósito\n",
    "    rn.renueva_depos(banco, plazos)\n",
    "\n",
    "    # se determina la nueva situación de liquidez y\n",
    "    # se muestra\n",
    "    muestra_gap()\n",
    "    return\n",
    "\n",
    "def toma_inversiones():\n",
    "    # Se renueva la inversión\n",
    "    rn.inversion(banco)\n",
    "\n",
    "    # se determina la nueva situación de liquidez y\n",
    "    # se muestra.\n",
    "    muestra_gap()\n",
    "    return\n",
    "\n",
    "def arregla_c46():\n",
    "    # Se arregla el C46,\n",
    "    rn.cumple_c46(banco, plazos)\n",
    "\n",
    "    # Se muestra gap\n",
    "    muestra_gap()"
   ]
  },
  {
   "cell_type": "markdown",
   "metadata": {},
   "source": [
    "## t = 1: Se avanza un período en el tiempo y se muestra la nueva situación de liquidez, el EERR, el balance y las operaciones (vigentes y vencidas)."
   ]
  },
  {
   "cell_type": "code",
   "execution_count": 8,
   "metadata": {},
   "outputs": [
    {
     "name": "stdout",
     "output_type": "stream",
     "text": [
      "Gap de Liquidez a tiempo t =  1\n",
      "     0       1  2  3  4       5  6  7  8\n",
      "0  0.0 -91.404  0  0  0  106.75  0  0  0\n",
      "c46:  71.404\n",
      "\n",
      "activo {'intereses_devengados': 1.125, 'intereses_recibidos': 0.0}\n",
      "pasivo {'intereses_pagados': 0.0, 'intereses_devengados': 0.702}\n",
      "\n",
      "patrimonio {'capital_pagado': -10.0}\n",
      "activo {'caja': 0.0, 'credito': 101.125}\n",
      "pasivo {'depo': -90.702, 'sobregiro': 0.0}\n",
      "\n",
      "Activos:\n",
      "prod\tplazo\tmonto\tint_dev\tflujo\t\n",
      "credito 6.0 5.0 100.0 1.125 106.75\n",
      "Pasivos:\n",
      "prod\tplazo\tmonto\tint_dev\tflujo\t\n",
      "depo 2.0 1.0 90.0 0.702 91.404\n"
     ]
    }
   ],
   "source": [
    "# Se avanza un período en el tiempo,\n",
    "avanza()"
   ]
  },
  {
   "cell_type": "markdown",
   "metadata": {},
   "source": [
    "### Se \"arregla\" el C46. Se compran inversiones financiándolas con depósitos a los plazos indicados en la variable **plazos**."
   ]
  },
  {
   "cell_type": "code",
   "execution_count": 9,
   "metadata": {},
   "outputs": [
    {
     "name": "stdout",
     "output_type": "stream",
     "text": [
      "Gap de Liquidez a tiempo t =  1\n",
      "     0       1        2  3  4       5  6  7  8\n",
      "0  0.0 -19.518 -72.5179  0  0  106.75  0  0  0\n",
      "c46:  0\n"
     ]
    }
   ],
   "source": [
    "# Se arregla el C46.\n",
    "arregla_c46()"
   ]
  },
  {
   "cell_type": "code",
   "execution_count": 10,
   "metadata": {},
   "outputs": [
    {
     "name": "stdout",
     "output_type": "stream",
     "text": [
      "Activos:\n",
      "prod\tplazo\tmonto\tint_dev\tflujo\t\n",
      "credito 6.0 5.0 100.0 1.125 106.75\n",
      "inversion 2.0 1.0 71.404 0.0 71.886\n",
      "Pasivos:\n",
      "prod\tplazo\tmonto\tint_dev\tflujo\t\n",
      "depo 2.0 1.0 90.0 0.702 91.404\n",
      "depo 3.0 2.0 71.404 0.0 72.5179\n"
     ]
    }
   ],
   "source": [
    "muestra_operaciones(1)"
   ]
  },
  {
   "cell_type": "code",
   "execution_count": 11,
   "metadata": {},
   "outputs": [
    {
     "name": "stdout",
     "output_type": "stream",
     "text": [
      "patrimonio {'capital_pagado': -10.0}\n",
      "activo {'inversion': 71.404, 'caja': 0.0, 'credito': 101.125}\n",
      "pasivo {'depo': -162.106, 'sobregiro': 0.0}\n"
     ]
    }
   ],
   "source": [
    "muestra_balance()"
   ]
  },
  {
   "cell_type": "code",
   "execution_count": 12,
   "metadata": {},
   "outputs": [
    {
     "name": "stdout",
     "output_type": "stream",
     "text": [
      "activo {'intereses_devengados': 1.125, 'intereses_recibidos': 0.0}\n",
      "pasivo {'intereses_pagados': 0.0, 'intereses_devengados': 0.702}\n"
     ]
    }
   ],
   "source": [
    "muestra_resultados()"
   ]
  },
  {
   "cell_type": "markdown",
   "metadata": {},
   "source": [
    "## t = 2: Se avanza nuevamente en el tiempo y se determina la nueva situación de liquidez."
   ]
  },
  {
   "cell_type": "code",
   "execution_count": 13,
   "metadata": {},
   "outputs": [
    {
     "name": "stdout",
     "output_type": "stream",
     "text": [
      "Gap de Liquidez a tiempo t =  2\n",
      "        0        1  2  3       4  5  6  7  8\n",
      "0 -19.518 -72.5179  0  0  106.75  0  0  0  0\n",
      "c46:  72.0359\n",
      "\n",
      "activo {'intereses_devengados': 2.25, 'intereses_recibidos': 0.482}\n",
      "pasivo {'intereses_pagados': 1.404, 'intereses_devengados': 0.557}\n",
      "\n",
      "patrimonio {'capital_pagado': -10.0}\n",
      "activo {'inversion': 0.0, 'caja': 0.0, 'credito': 102.25}\n",
      "pasivo {'depo': -71.961, 'sobregiro': -19.518}\n",
      "\n",
      "Activos:\n",
      "prod\tplazo\tmonto\tint_dev\tflujo\t\n",
      "credito 6.0 4.0 100.0 2.25 106.75\n",
      "inversion 2.0 0.0 71.404 0.0 71.886\n",
      "Pasivos:\n",
      "prod\tplazo\tmonto\tint_dev\tflujo\t\n",
      "depo 2.0 0.0 90.0 0.0 91.404\n",
      "depo 3.0 1.0 71.404 0.557 72.5179\n"
     ]
    }
   ],
   "source": [
    "# Se avanza un período en el tiempo,\n",
    "avanza()"
   ]
  },
  {
   "cell_type": "code",
   "execution_count": 14,
   "metadata": {},
   "outputs": [
    {
     "data": {
      "text/plain": [
       "[('capital', 0, 10.0),\n",
       " ('1credito', 0, -100.0),\n",
       " ('1depo', 0, 90.0),\n",
       " ('1-invinversion', 1, -71.404),\n",
       " ('1-fin_invdepo', 1, 71.404),\n",
       " ('1depo', 2, -91.404),\n",
       " ('1-invinversion', 2, 71.886)]"
      ]
     },
     "execution_count": 14,
     "metadata": {},
     "output_type": "execute_result"
    }
   ],
   "source": [
    "banco._caja._movimientos"
   ]
  },
  {
   "cell_type": "markdown",
   "metadata": {},
   "source": [
    "### El déficit de caja se debe al vencimiento por 92.7 de depósitos comparado con 73.2453 de inversiones. Vamos a renovar el depósito y la inversión."
   ]
  },
  {
   "cell_type": "code",
   "execution_count": 15,
   "metadata": {},
   "outputs": [
    {
     "name": "stdout",
     "output_type": "stream",
     "text": [
      "Gap de Liquidez a tiempo t =  2\n",
      "        0        1        2  3       4  5  6  7  8\n",
      "0  71.886 -72.5179 -92.8299  0  106.75  0  0  0  0\n",
      "c46:  0\n"
     ]
    }
   ],
   "source": [
    "# Se renueva el depósito\n",
    "renueva_depo()"
   ]
  },
  {
   "cell_type": "code",
   "execution_count": 16,
   "metadata": {},
   "outputs": [
    {
     "name": "stdout",
     "output_type": "stream",
     "text": [
      "Activos:\n",
      "prod\tplazo\tmonto\tint_dev\tflujo\t\n",
      "credito 6.0 4.0 100.0 2.25 106.75\n",
      "inversion 2.0 0.0 71.404 0.0 71.886\n",
      "Pasivos:\n",
      "prod\tplazo\tmonto\tint_dev\tflujo\t\n",
      "depo 2.0 0.0 90.0 0.0 91.404\n",
      "depo 3.0 1.0 71.404 0.557 72.5179\n",
      "depo 4.0 2.0 91.404 0.0 92.8299\n"
     ]
    }
   ],
   "source": [
    "muestra_operaciones(2)"
   ]
  },
  {
   "cell_type": "code",
   "execution_count": 17,
   "metadata": {},
   "outputs": [
    {
     "name": "stdout",
     "output_type": "stream",
     "text": [
      "Gap de Liquidez a tiempo t =  2\n",
      "        0        1        2  3       4  5  6  7  8\n",
      "0  71.886 -72.5179 -92.8299  0  106.75  0  0  0  0\n",
      "c46:  0\n"
     ]
    }
   ],
   "source": [
    "muestra_gap()"
   ]
  },
  {
   "cell_type": "markdown",
   "metadata": {},
   "source": [
    "### El C46 está Ok, pero hay que renovar la inversión."
   ]
  },
  {
   "cell_type": "code",
   "execution_count": 18,
   "metadata": {},
   "outputs": [
    {
     "name": "stdout",
     "output_type": "stream",
     "text": [
      "Gap de Liquidez a tiempo t =  2\n",
      "     0       1        2  3       4  5  6  7  8\n",
      "0  0.0 -0.1467 -92.8299  0  106.75  0  0  0  0\n",
      "c46:  0\n"
     ]
    }
   ],
   "source": [
    "# Se renueva la inversión\n",
    "toma_inversiones()"
   ]
  },
  {
   "cell_type": "code",
   "execution_count": 19,
   "metadata": {},
   "outputs": [
    {
     "name": "stdout",
     "output_type": "stream",
     "text": [
      "Activos:\n",
      "prod\tplazo\tmonto\tint_dev\tflujo\t\n",
      "credito 6.0 4.0 100.0 2.25 106.75\n",
      "inversion 2.0 0.0 71.404 0.0 71.886\n",
      "inversion 3.0 1.0 71.886 0.0 72.3712\n",
      "Pasivos:\n",
      "prod\tplazo\tmonto\tint_dev\tflujo\t\n",
      "depo 2.0 0.0 90.0 0.0 91.404\n",
      "depo 3.0 1.0 71.404 0.557 72.5179\n",
      "depo 4.0 2.0 91.404 0.0 92.8299\n"
     ]
    }
   ],
   "source": [
    "muestra_operaciones(2)"
   ]
  },
  {
   "cell_type": "markdown",
   "metadata": {},
   "source": [
    "### Veamos como queda el balance."
   ]
  },
  {
   "cell_type": "code",
   "execution_count": 19,
   "metadata": {},
   "outputs": [
    {
     "data": {
      "text/plain": [
       "{'activo': {'caja': 0.0, 'credito': 102.25, 'inversion': 71.886},\n",
       " 'pasivo': {'depo': -163.365, 'sobregiro': 0.0},\n",
       " 'patrimonio': {'capital_pagado': -10.0}}"
      ]
     },
     "execution_count": 19,
     "metadata": {},
     "output_type": "execute_result"
    }
   ],
   "source": [
    "# Se muestra el balance\n",
    "banco.balance()"
   ]
  },
  {
   "cell_type": "code",
   "execution_count": 20,
   "metadata": {},
   "outputs": [
    {
     "name": "stdout",
     "output_type": "stream",
     "text": [
      "activo {'intereses_devengados': 2.25, 'intereses_recibidos': 0.482}\n",
      "pasivo {'intereses_pagados': 1.404, 'intereses_devengados': 0.557}\n"
     ]
    }
   ],
   "source": [
    "muestra_resultados()"
   ]
  },
  {
   "cell_type": "markdown",
   "metadata": {},
   "source": [
    "## t = 3: Se avanza nuevamente en el tiempo y se determina la nueva situación de liquidez."
   ]
  },
  {
   "cell_type": "code",
   "execution_count": 20,
   "metadata": {},
   "outputs": [
    {
     "name": "stdout",
     "output_type": "stream",
     "text": [
      "Gap de Liquidez a tiempo t =  3\n",
      "        0        1  2       3  4  5  6  7  8\n",
      "0 -0.1467 -92.8299  0  106.75  0  0  0  0  0\n",
      "c46:  72.9766\n",
      "\n",
      "activo {'intereses_devengados': 3.375, 'intereses_recibidos': 0.9672000000000001}\n",
      "pasivo {'intereses_pagados': 2.5179, 'intereses_devengados': 0.713}\n",
      "\n",
      "patrimonio {'capital_pagado': -10.0}\n",
      "activo {'inversion': 0.0, 'caja': 0.0, 'credito': 103.375}\n",
      "pasivo {'depo': -92.117, 'sobregiro': -0.1467}\n",
      "\n",
      "Activos:\n",
      "prod\tplazo\tmonto\tint_dev\tflujo\t\n",
      "credito 6.0 3.0 100.0 3.375 106.75\n",
      "inversion 2.0 -1.0 71.404 0.0 71.886\n",
      "inversion 3.0 0.0 71.886 0.0 72.3712\n",
      "Pasivos:\n",
      "prod\tplazo\tmonto\tint_dev\tflujo\t\n",
      "depo 2.0 -1.0 90.0 0.0 91.404\n",
      "depo 3.0 0.0 71.404 0.0 72.5179\n",
      "depo 4.0 1.0 91.404 0.713 92.8299\n"
     ]
    }
   ],
   "source": [
    "# Se avanza un período en el tiempo\n",
    "avanza()"
   ]
  },
  {
   "cell_type": "markdown",
   "metadata": {},
   "source": [
    "## Veamos los movimientos de caja."
   ]
  },
  {
   "cell_type": "code",
   "execution_count": 21,
   "metadata": {},
   "outputs": [
    {
     "data": {
      "text/plain": [
       "[('capital', 0, 10.0),\n",
       " ('1credito', 0, -100.0),\n",
       " ('1depo', 0, 90.0),\n",
       " ('1-invinversion', 1, -71.404),\n",
       " ('1-fin_invdepo', 1, 71.404),\n",
       " ('1depo', 2, -91.404),\n",
       " ('1-invinversion', 2, 71.886),\n",
       " ('r1depo', 2, 91.404),\n",
       " ('inv-2-1inversion', 2, -71.886),\n",
       " ('1-fin_invdepo', 3, -72.5179),\n",
       " ('inv-2-1inversion', 3, 72.3712)]"
      ]
     },
     "execution_count": 21,
     "metadata": {},
     "output_type": "execute_result"
    }
   ],
   "source": [
    "banco._caja._movimientos"
   ]
  },
  {
   "cell_type": "markdown",
   "metadata": {},
   "source": [
    "## Se renueva el depósito."
   ]
  },
  {
   "cell_type": "code",
   "execution_count": 22,
   "metadata": {},
   "outputs": [
    {
     "name": "stdout",
     "output_type": "stream",
     "text": [
      "Gap de Liquidez a tiempo t =  3\n",
      "         0        1        2       3  4  5  6  7  8\n",
      "0  72.3712 -92.8299 -73.6492  106.75  0  0  0  0  0\n",
      "c46:  0.4587\n"
     ]
    }
   ],
   "source": [
    "# renovar depo.\n",
    "renueva_depo()"
   ]
  },
  {
   "cell_type": "code",
   "execution_count": 23,
   "metadata": {},
   "outputs": [
    {
     "name": "stdout",
     "output_type": "stream",
     "text": [
      "Activos:\n",
      "prod\tplazo\tmonto\tint_dev\tflujo\t\n",
      "credito 6.0 3.0 100.0 3.375 106.75\n",
      "inversion 2.0 -1.0 71.404 0.0 71.886\n",
      "inversion 3.0 0.0 71.886 0.0 72.3712\n",
      "Pasivos:\n",
      "prod\tplazo\tmonto\tint_dev\tflujo\t\n",
      "depo 2.0 -1.0 90.0 0.0 91.404\n",
      "depo 3.0 0.0 71.404 0.0 72.5179\n",
      "depo 4.0 1.0 91.404 0.713 92.8299\n",
      "depo 5.0 2.0 72.5179 0.0 73.6492\n"
     ]
    }
   ],
   "source": [
    "muestra_operaciones(3)"
   ]
  },
  {
   "cell_type": "markdown",
   "metadata": {},
   "source": [
    "### Hay que arreglar el C46, lo haremos activando la caja en inversiones."
   ]
  },
  {
   "cell_type": "code",
   "execution_count": 25,
   "metadata": {},
   "outputs": [
    {
     "name": "stdout",
     "output_type": "stream",
     "text": [
      "Gap de Liquidez a tiempo t =  3\n",
      "     0        1        2       3  4  5  6  7  8\n",
      "0  0.0 -19.9702 -73.6492  106.75  0  0  0  0  0\n",
      "c46:  0\n"
     ]
    }
   ],
   "source": [
    "# Se arregla el C46,\n",
    "toma_inversiones()"
   ]
  },
  {
   "cell_type": "code",
   "execution_count": 26,
   "metadata": {},
   "outputs": [
    {
     "name": "stdout",
     "output_type": "stream",
     "text": [
      "Activos:\n",
      "prod\tplazo\tmonto\tint_dev\tflujo\t\n",
      "credito 6.0 3.0 100.0 3.375 106.75\n",
      "inversion 2.0 -1.0 71.404 0.0 71.886\n",
      "inversion 3.0 0.0 71.886 0.0 72.3712\n",
      "inversion 4.0 1.0 72.3712 0.0 72.8597\n",
      "Pasivos:\n",
      "prod\tplazo\tmonto\tint_dev\tflujo\t\n",
      "depo 2.0 -1.0 90.0 0.0 91.404\n",
      "depo 3.0 0.0 71.404 0.0 72.5179\n",
      "depo 4.0 1.0 91.404 0.713 92.8299\n",
      "depo 5.0 2.0 72.5179 0.0 73.6492\n"
     ]
    }
   ],
   "source": [
    "muestra_operaciones(3)"
   ]
  },
  {
   "cell_type": "code",
   "execution_count": 27,
   "metadata": {},
   "outputs": [
    {
     "name": "stdout",
     "output_type": "stream",
     "text": [
      "Gap de Liquidez a tiempo t =  3\n",
      "     0        1        2       3  4  5  6  7  8\n",
      "0  0.0 -19.9702 -73.6492  106.75  0  0  0  0  0\n",
      "c46:  0\n"
     ]
    }
   ],
   "source": [
    "arregla_c46()"
   ]
  },
  {
   "cell_type": "code",
   "execution_count": 28,
   "metadata": {},
   "outputs": [
    {
     "name": "stdout",
     "output_type": "stream",
     "text": [
      "Activos:\n",
      "prod\tplazo\tmonto\tint_dev\tflujo\t\n",
      "credito 6.0 3.0 100.0 3.375 106.75\n",
      "inversion 2.0 -1.0 71.404 0.0 71.886\n",
      "inversion 3.0 0.0 71.886 0.0 72.3712\n",
      "inversion 4.0 1.0 72.3712 0.0 72.8597\n",
      "Pasivos:\n",
      "prod\tplazo\tmonto\tint_dev\tflujo\t\n",
      "depo 2.0 -1.0 90.0 0.0 91.404\n",
      "depo 3.0 0.0 71.404 0.0 72.5179\n",
      "depo 4.0 1.0 91.404 0.713 92.8299\n",
      "depo 5.0 2.0 72.5179 0.0 73.6492\n"
     ]
    }
   ],
   "source": [
    "muestra_operaciones(3)"
   ]
  },
  {
   "cell_type": "markdown",
   "metadata": {},
   "source": [
    "## t = 4. Volvemos a avanzar."
   ]
  },
  {
   "cell_type": "code",
   "execution_count": 29,
   "metadata": {},
   "outputs": [
    {
     "name": "stdout",
     "output_type": "stream",
     "text": [
      "Gap de Liquidez a tiempo t =  4\n",
      "         0        1       2  3  4  5  6  7  8\n",
      "0 -19.9702 -73.6492  106.75  0  0  0  0  0  0\n",
      "c46:  73.6194\n",
      "\n",
      "activo {'intereses_devengados': 4.5, 'intereses_recibidos': 1.4557}\n",
      "pasivo {'intereses_pagados': 3.9438, 'intereses_devengados': 0.5656}\n",
      "\n",
      "patrimonio {'capital_pagado': -10.0}\n",
      "activo {'inversion': 0.0, 'caja': 0.0, 'credito': 104.5}\n",
      "pasivo {'depo': -73.0835, 'sobregiro': -19.9702}\n",
      "\n",
      "Activos:\n",
      "prod\tplazo\tmonto\tint_dev\tflujo\t\n",
      "credito 6.0 2.0 100.0 4.5 106.75\n",
      "inversion 2.0 -2.0 71.404 0.0 71.886\n",
      "inversion 3.0 -1.0 71.886 0.0 72.3712\n",
      "inversion 4.0 0.0 72.3712 0.0 72.8597\n",
      "Pasivos:\n",
      "prod\tplazo\tmonto\tint_dev\tflujo\t\n",
      "depo 2.0 -2.0 90.0 0.0 91.404\n",
      "depo 3.0 -1.0 71.404 0.0 72.5179\n",
      "depo 4.0 0.0 91.404 0.0 92.8299\n",
      "depo 5.0 1.0 72.5179 0.5656 73.6492\n"
     ]
    }
   ],
   "source": [
    "# Se avanza un período en el tiempo,\n",
    "avanza()"
   ]
  },
  {
   "cell_type": "markdown",
   "metadata": {},
   "source": [
    "### Renovamos el depósito."
   ]
  },
  {
   "cell_type": "code",
   "execution_count": 30,
   "metadata": {},
   "outputs": [
    {
     "name": "stdout",
     "output_type": "stream",
     "text": [
      "Gap de Liquidez a tiempo t =  4\n",
      "         0        1       2  3  4  5  6  7  8\n",
      "0  72.8597 -73.6492  12.472  0  0  0  0  0  0\n",
      "c46:  0\n"
     ]
    }
   ],
   "source": [
    "# Se renueva el depósito\n",
    "renueva_depo()"
   ]
  },
  {
   "cell_type": "markdown",
   "metadata": {},
   "source": [
    "### Renovamos la inversión."
   ]
  },
  {
   "cell_type": "code",
   "execution_count": 31,
   "metadata": {},
   "outputs": [
    {
     "name": "stdout",
     "output_type": "stream",
     "text": [
      "Gap de Liquidez a tiempo t =  4\n",
      "     0       1       2  3  4  5  6  7  8\n",
      "0  0.0 -0.2977  12.472  0  0  0  0  0  0\n",
      "c46:  0\n"
     ]
    }
   ],
   "source": [
    "# Se renueva la inversión,\n",
    "toma_inversiones()"
   ]
  },
  {
   "cell_type": "markdown",
   "metadata": {},
   "source": [
    "## t = 5: Volvemos a avanzar."
   ]
  },
  {
   "cell_type": "code",
   "execution_count": 32,
   "metadata": {},
   "outputs": [
    {
     "name": "stdout",
     "output_type": "stream",
     "text": [
      "Gap de Liquidez a tiempo t =  5\n",
      "        0       1  2  3  4  5  6  7  8\n",
      "0 -0.2977  12.472  0  0  0  0  0  0  0\n",
      "c46:  0\n",
      "\n",
      "activo {'intereses_devengados': 5.625, 'intereses_recibidos': 1.9475}\n",
      "pasivo {'intereses_pagados': 5.0751, 'intereses_devengados': 0.7241}\n",
      "\n",
      "patrimonio {'capital_pagado': -10.0}\n",
      "activo {'inversion': 0.0, 'caja': 0.0, 'credito': 105.625}\n",
      "pasivo {'depo': -93.554, 'sobregiro': -0.2977}\n",
      "\n",
      "Activos:\n",
      "prod\tplazo\tmonto\tint_dev\tflujo\t\n",
      "credito 6.0 1.0 100.0 5.625 106.75\n",
      "inversion 2.0 -3.0 71.404 0.0 71.886\n",
      "inversion 3.0 -2.0 71.886 0.0 72.3712\n",
      "inversion 4.0 -1.0 72.3712 0.0 72.8597\n",
      "inversion 5.0 0.0 72.8597 0.0 73.3515\n",
      "Pasivos:\n",
      "prod\tplazo\tmonto\tint_dev\tflujo\t\n",
      "depo 2.0 -3.0 90.0 0.0 91.404\n",
      "depo 3.0 -2.0 71.404 0.0 72.5179\n",
      "depo 4.0 -1.0 91.404 0.0 92.8299\n",
      "depo 5.0 0.0 72.5179 0.0 73.6492\n",
      "depo 6.0 1.0 92.8299 0.7241 94.278\n"
     ]
    }
   ],
   "source": [
    "# Se avanza un período en el tiempo,\n",
    "avanza()"
   ]
  },
  {
   "cell_type": "markdown",
   "metadata": {},
   "source": [
    "## t = 6: Volvemos a avanzar."
   ]
  },
  {
   "cell_type": "code",
   "execution_count": 33,
   "metadata": {},
   "outputs": [
    {
     "name": "stdout",
     "output_type": "stream",
     "text": [
      "Gap de Liquidez a tiempo t =  6\n",
      "         0  1  2  3  4  5  6  7  8\n",
      "0  12.1743  0  0  0  0  0  0  0  0\n",
      "c46:  0\n",
      "\n",
      "activo {'intereses_devengados': 0.0, 'intereses_recibidos': 8.6975}\n",
      "pasivo {'intereses_pagados': 6.5232, 'intereses_devengados': 0.0}\n",
      "\n",
      "patrimonio {'capital_pagado': -10.0}\n",
      "activo {'inversion': 0.0, 'caja': 12.1743, 'credito': 0.0}\n",
      "pasivo {'depo': -0.0, 'sobregiro': 0.0}\n",
      "\n",
      "Activos:\n",
      "prod\tplazo\tmonto\tint_dev\tflujo\t\n",
      "credito 6.0 0.0 100.0 0.0 106.75\n",
      "inversion 2.0 -4.0 71.404 0.0 71.886\n",
      "inversion 3.0 -3.0 71.886 0.0 72.3712\n",
      "inversion 4.0 -2.0 72.3712 0.0 72.8597\n",
      "inversion 5.0 -1.0 72.8597 0.0 73.3515\n",
      "Pasivos:\n",
      "prod\tplazo\tmonto\tint_dev\tflujo\t\n",
      "depo 2.0 -4.0 90.0 0.0 91.404\n",
      "depo 3.0 -3.0 71.404 0.0 72.5179\n",
      "depo 4.0 -2.0 91.404 0.0 92.8299\n",
      "depo 5.0 -1.0 72.5179 0.0 73.6492\n",
      "depo 6.0 0.0 92.8299 0.0 94.278\n"
     ]
    }
   ],
   "source": [
    "# Se avanza un período en el tiempo,\n",
    "avanza()"
   ]
  },
  {
   "cell_type": "code",
   "execution_count": 34,
   "metadata": {},
   "outputs": [
    {
     "name": "stdout",
     "output_type": "stream",
     "text": [
      "('capital', 0, 10.0)\n",
      "('1credito', 0, -100.0)\n",
      "('1depo', 0, 90.0)\n",
      "('1-invinversion', 1, -71.404)\n",
      "('1-fin_invdepo', 1, 71.404)\n",
      "('1depo', 2, -91.404)\n",
      "('1-invinversion', 2, 71.886)\n",
      "('r1depo', 2, 91.404)\n",
      "('inv-2-1inversion', 2, -71.886)\n",
      "('1-fin_invdepo', 3, -72.5179)\n",
      "('inv-2-1inversion', 3, 72.3712)\n",
      "('r1-fin_invdepo', 3, 72.5179)\n",
      "('inv-3-1inversion', 3, -72.3712)\n",
      "('r1depo', 4, -92.8299)\n",
      "('inv-3-1inversion', 4, 72.8597)\n",
      "('rr1depo', 4, 92.8299)\n",
      "('inv-4-1inversion', 4, -72.8597)\n",
      "('r1-fin_invdepo', 5, -73.6492)\n",
      "('inv-4-1inversion', 5, 73.3515)\n",
      "('1credito', 6, 106.75)\n",
      "('rr1depo', 6, -94.278)\n"
     ]
    }
   ],
   "source": [
    "for x in banco._caja._movimientos:\n",
    "    print x"
   ]
  },
  {
   "cell_type": "code",
   "execution_count": 37,
   "metadata": {},
   "outputs": [
    {
     "data": {
      "text/plain": [
       "2.1743"
      ]
     },
     "execution_count": 37,
     "metadata": {},
     "output_type": "execute_result"
    }
   ],
   "source": [
    "result_6m = 2.1743\n",
    "round(8.6975-6.5232,4)"
   ]
  }
 ],
 "metadata": {
  "kernelspec": {
   "display_name": "Python 2",
   "language": "python",
   "name": "python2"
  },
  "language_info": {
   "codemirror_mode": {
    "name": "ipython",
    "version": 2
   },
   "file_extension": ".py",
   "mimetype": "text/x-python",
   "name": "python",
   "nbconvert_exporter": "python",
   "pygments_lexer": "ipython2",
   "version": "2.7.14"
  }
 },
 "nbformat": 4,
 "nbformat_minor": 2
}
