{
 "cells": [
  {
   "cell_type": "markdown",
   "metadata": {},
   "source": [
    "# Demo de Simulación de Balance - Cantidad de Inversiones"
   ]
  },
  {
   "cell_type": "markdown",
   "metadata": {},
   "source": [
    "## Configuración inicial de librerías"
   ]
  },
  {
   "cell_type": "code",
   "execution_count": 1,
   "metadata": {},
   "outputs": [],
   "source": [
    "# Contiene las clases Operacion, Caja y Banco.\n",
    "import simula_balance as sb\n",
    "\n",
    "# Contiene las reglas de renovación, por ejemplo,\n",
    "# toda la caja a overnight.\n",
    "import reglas_renovacion as rn\n",
    "\n",
    "# Contiene las métricas, por ejemplo, el C46.\n",
    "import metricas as met\n",
    "\n",
    "# Se usa pandas sólo para desplegar claramente el gap de liquidez.\n",
    "import pandas as pd"
   ]
  },
  {
   "cell_type": "markdown",
   "metadata": {},
   "source": [
    "## t = 0: Configuración inicial del Banco"
   ]
  },
  {
   "cell_type": "code",
   "execution_count": 2,
   "metadata": {},
   "outputs": [],
   "source": [
    "# Monto de capital\n",
    "capital = 10.0\n",
    "\n",
    "# Sobre este objeto caen los vencimientos de activos y pasivos.\n",
    "# De aquí se obtiene el dinero para captaciones y colocaciones,\n",
    "# toda operación, al iniciarse, tiene su correspondiente movimiento\n",
    "# en la caja.\n",
    "caja = sb.Caja()\n",
    "\n",
    "# Construimos un Banco muy sencillo con una colocación bullet\n",
    "# y una captación (también bullet).\n",
    "# Lo primero son las tasas de mercado\n",
    "mercado = {'on_col': 0.0, 'on_cap':0.0,\n",
    "           'depo2':0.0312, 'depo3':0.033, 'depo4':0.0348,\n",
    "           'inversion':0.027, 'colocacion':0.045}\n",
    "\n",
    "# Variable que establece los plazos y porcentajes de renovación a cada plazo.\n",
    "# Si tenemos x:y significa que al plazo x (medido en número de períodos)\n",
    "# se hace un y% del monto necesario.\n",
    "plazos = {2:50, 4:50}\n",
    "\n",
    "\n",
    "# Se construye el crédito\n",
    "credito = sb.Operacion(mercado['colocacion'], 0, 12, 100, {'id':'1', 'ap':'activo', 'producto':'credito'})\n",
    "\n",
    "# En esta lista se almacenarán las operaciones que insertaremos inicialmente en el banco.\n",
    "operaciones = [credito]\n",
    "\n",
    "# Se construye la mezcla de depósitos\n",
    "i = 0\n",
    "for plazo in plazos:\n",
    "    i += 1\n",
    "    codigo_tasa = 'depo' + str(plazo)\n",
    "    ponderador = plazos[plazo] / 100.0\n",
    "    operaciones.append(sb.Operacion(mercado[codigo_tasa], 0, plazo, ponderador * 90,\n",
    "                                    {'id':str(i), 'ap':'pasivo', 'producto':'depo'}))\n",
    "    \n",
    "# Se da de alta el banco inicial\n",
    "banco = sb.Banco(caja, operaciones, capital)"
   ]
  },
  {
   "cell_type": "markdown",
   "metadata": {},
   "source": [
    "### Se construye y muestra el gap de liquidez inicial del banco."
   ]
  },
  {
   "cell_type": "code",
   "execution_count": 3,
   "metadata": {},
   "outputs": [
    {
     "name": "stdout",
     "output_type": "stream",
     "text": [
      "Gap de Liquidez a tiempo t =  0\n",
      "    0   1       2   3       4   5   6   7   8   9   10  11     12  13  14  15  \\\n",
      "0  0.0   0 -45.702   0 -46.566   0   0   0   0   0   0   0  113.5   0   0   0   \n",
      "\n",
      "   16  \n",
      "0   0  \n",
      "c46:  -0.0\n"
     ]
    }
   ],
   "source": [
    "# Se determina el gap de liquidez del Banco.\n",
    "gap = met.construye_gap_liquidez(banco)\n",
    "\n",
    "# El gap de liquidez se guarda en un dataframe para imprimirlo bien.\n",
    "pd_gap = pd.DataFrame([gap()])\n",
    "\n",
    "# Se muestra el resultado\n",
    "print \"Gap de Liquidez a tiempo t = \", banco.tiempo_actual()\n",
    "print pd_gap\n",
    "print 'c46: ', met.c46(banco, True)"
   ]
  },
  {
   "cell_type": "markdown",
   "metadata": {},
   "source": [
    "### Se muestra el estado de resultados inicial."
   ]
  },
  {
   "cell_type": "code",
   "execution_count": 4,
   "metadata": {},
   "outputs": [
    {
     "data": {
      "text/plain": [
       "{'activo': {'intereses_devengados': 0.0, 'intereses_recibidos': 0.0},\n",
       " 'pasivo': {'intereses_devengados': 0.0, 'intereses_pagados': 0.0}}"
      ]
     },
     "execution_count": 4,
     "metadata": {},
     "output_type": "execute_result"
    }
   ],
   "source": [
    "# Se calcula y muestra, no se almacena.\n",
    "banco.estado_resultados()"
   ]
  },
  {
   "cell_type": "markdown",
   "metadata": {},
   "source": [
    "### Se muestra el balance inicial."
   ]
  },
  {
   "cell_type": "code",
   "execution_count": 5,
   "metadata": {},
   "outputs": [
    {
     "data": {
      "text/plain": [
       "{'activo': {'caja': 0.0, 'credito': 100.0},\n",
       " 'pasivo': {'depo': -90.0, 'sobregiro': 0.0},\n",
       " 'patrimonio': {'capital_pagado': -10.0}}"
      ]
     },
     "execution_count": 5,
     "metadata": {},
     "output_type": "execute_result"
    }
   ],
   "source": [
    "# Se calcula y muestra, no se almacena.\n",
    "banco.balance()"
   ]
  },
  {
   "cell_type": "markdown",
   "metadata": {},
   "source": [
    "Vamos a definir algunas funciones auxiliares que harán menos verboso el ejercicio:"
   ]
  },
  {
   "cell_type": "code",
   "execution_count": 6,
   "metadata": {},
   "outputs": [],
   "source": [
    "def muestra_gap():\n",
    "    # se determina la situación de liquidez y\n",
    "    gap = met.construye_gap_liquidez(banco)\n",
    "    pd_gap = pd.DataFrame([gap()])\n",
    "\n",
    "    # se muestra el resultado.\n",
    "    print \"Gap de Liquidez a tiempo t = \", banco.tiempo_actual()\n",
    "    print pd_gap\n",
    "    print 'c46: ', met.c46(banco, True)\n",
    "    return\n",
    "\n",
    "def muestra_resultados():\n",
    "    # Calcula y muestra el estado de resultados\n",
    "    er = banco.estado_resultados()\n",
    "    resultado = 0.0\n",
    "    for key in er:\n",
    "        print key, er[key]\n",
    "        if key == 'activo':\n",
    "            for interes in er[key]:\n",
    "                resultado += er[key][interes]\n",
    "        else:\n",
    "            for interes in er[key]:\n",
    "                resultado -= er[key][interes]\n",
    "    print \"resultado: \", resultado\n",
    "    return\n",
    "\n",
    "def muestra_balance():\n",
    "    # Calcula y muestra el balance\n",
    "    bal = banco.balance()\n",
    "    for key in bal:\n",
    "        print key, bal[key]\n",
    "    return\n",
    "\n",
    "def muestra_operaciones(t):\n",
    "    # Muestra los flujos de las operaciones del banco\n",
    "    activos = banco.activos()\n",
    "    print 'Activos:'\n",
    "    print 'prod\\t', 'plazo\\t', 'monto\\t', 'int_dev\\t', 'flujo\\t'\n",
    "    for act in activos:\n",
    "        print act.atributos()['producto'], act.vencimiento(), act.vencimiento() - t, act.monto(), act.interes_devengado(t), act.flujo()\n",
    "        \n",
    "    pasivos = banco.pasivos()\n",
    "    print 'Pasivos:'\n",
    "    print 'prod\\t', 'plazo\\t', 'monto\\t', 'int_dev\\t', 'flujo\\t'\n",
    "    for pas in pasivos:\n",
    "        print pas.atributos()['producto'], pas.vencimiento(), pas.vencimiento() - t, pas.monto(), pas.interes_devengado(t), pas.flujo()\n",
    "\n",
    "def avanza():\n",
    "    # Se avanza un período en el tiempo,\n",
    "    banco.avanza()\n",
    "\n",
    "    # se determina la nueva situación de liquidez y\n",
    "    # se muestra.\n",
    "    muestra_gap()\n",
    "    \n",
    "    print\n",
    "    \n",
    "    # Se calcula y muestra el EERR.\n",
    "    muestra_resultados()\n",
    "    \n",
    "    print\n",
    "    \n",
    "    # Se calcula y muestra el balance\n",
    "    muestra_balance()\n",
    "        \n",
    "    print\n",
    "    \n",
    "    # Se muestran las operaciones\n",
    "    muestra_operaciones(banco.tiempo_actual())\n",
    "    return\n",
    "    \n",
    "def renueva_depo():\n",
    "    # Se renueva el depósito\n",
    "    rn.renueva_depos(banco, plazos)\n",
    "\n",
    "    # se determina la nueva situación de liquidez y\n",
    "    # se muestra\n",
    "    muestra_gap()\n",
    "    return\n",
    "\n",
    "def toma_inversiones():\n",
    "    # Se renueva la inversión\n",
    "    rn.inversion(banco)\n",
    "\n",
    "    # se determina la nueva situación de liquidez y\n",
    "    # se muestra.\n",
    "    muestra_gap()\n",
    "    return\n",
    "\n",
    "def arregla_c46():\n",
    "    # Se arregla el C46,\n",
    "    rn.cumple_c46(banco, plazos, True)\n",
    "\n",
    "    # Se muestra gap\n",
    "    muestra_gap()"
   ]
  },
  {
   "cell_type": "code",
   "execution_count": 7,
   "metadata": {},
   "outputs": [
    {
     "name": "stdout",
     "output_type": "stream",
     "text": [
      "Activos:\n",
      "prod\tplazo\tmonto\tint_dev\tflujo\t\n",
      "credito 12.0 12.0 100.0 0.0 113.5\n",
      "Pasivos:\n",
      "prod\tplazo\tmonto\tint_dev\tflujo\t\n",
      "depo 2.0 2.0 45.0 0.0 45.702\n",
      "depo 4.0 4.0 45.0 0.0 46.566\n"
     ]
    }
   ],
   "source": [
    "muestra_operaciones(0)"
   ]
  },
  {
   "cell_type": "markdown",
   "metadata": {},
   "source": [
    "## t = 1: Se avanza un período en el tiempo y se muestra la nueva situación de liquidez, el EERR, el balance y las operaciones (vigentes y vencidas)."
   ]
  },
  {
   "cell_type": "code",
   "execution_count": 8,
   "metadata": {},
   "outputs": [
    {
     "name": "stdout",
     "output_type": "stream",
     "text": [
      "Gap de Liquidez a tiempo t =  1\n",
      "    0       1   2       3   4   5   6   7   8   9   10     11  12  13  14  15  \\\n",
      "0  0.0 -45.702   0 -46.566   0   0   0   0   0   0   0  113.5   0   0   0   0   \n",
      "\n",
      "   16  \n",
      "0   0  \n",
      "c46:  45.702\n",
      "\n",
      "activo {'intereses_devengados': 1.125, 'intereses_recibidos': 0.0}\n",
      "pasivo {'intereses_pagados': 0.0, 'intereses_devengados': 0.7424999999999999}\n",
      "resultado:  0.3825\n",
      "\n",
      "patrimonio {'capital_pagado': -10.0}\n",
      "activo {'caja': 0.0, 'credito': 101.125}\n",
      "pasivo {'depo': -90.7425, 'sobregiro': 0.0}\n",
      "\n",
      "Activos:\n",
      "prod\tplazo\tmonto\tint_dev\tflujo\t\n",
      "credito 12.0 11.0 100.0 1.125 113.5\n",
      "Pasivos:\n",
      "prod\tplazo\tmonto\tint_dev\tflujo\t\n",
      "depo 2.0 1.0 45.0 0.351 45.702\n",
      "depo 4.0 3.0 45.0 0.3915 46.566\n"
     ]
    }
   ],
   "source": [
    "# Se avanza un período en el tiempo,\n",
    "avanza()"
   ]
  },
  {
   "cell_type": "markdown",
   "metadata": {},
   "source": [
    "### Se \"arregla\" el C46. Se compran inversiones financiándolas con depósitos a los plazos indicados en la variable **plazos**."
   ]
  },
  {
   "cell_type": "code",
   "execution_count": 9,
   "metadata": {},
   "outputs": [
    {
     "name": "stdout",
     "output_type": "stream",
     "text": [
      "Gap de Liquidez a tiempo t =  1\n",
      "    0       1        2       3        4   5   6   7   8   9   10     11  12  \\\n",
      "0  0.0  0.3085 -23.2075 -46.566 -23.6462   0   0   0   0   0   0  113.5   0   \n",
      "\n",
      "   13  14  15  16  \n",
      "0   0   0   0   0  \n",
      "c46:  -0.3085\n"
     ]
    }
   ],
   "source": [
    "# Se arregla el C46.\n",
    "arregla_c46()"
   ]
  },
  {
   "cell_type": "code",
   "execution_count": 10,
   "metadata": {},
   "outputs": [
    {
     "name": "stdout",
     "output_type": "stream",
     "text": [
      "Activos:\n",
      "prod\tplazo\tmonto\tint_dev\tflujo\t\n",
      "credito 12.0 11.0 100.0 1.125 113.5\n",
      "inversion 2.0 1.0 45.702 0.0 46.0105\n",
      "Pasivos:\n",
      "prod\tplazo\tmonto\tint_dev\tflujo\t\n",
      "depo 2.0 1.0 45.0 0.351 45.702\n",
      "depo 4.0 3.0 45.0 0.3915 46.566\n",
      "depo 3.0 2.0 22.851 0.0 23.2075\n",
      "depo 5.0 4.0 22.851 0.0 23.6462\n"
     ]
    }
   ],
   "source": [
    "muestra_operaciones(1)"
   ]
  },
  {
   "cell_type": "code",
   "execution_count": 11,
   "metadata": {},
   "outputs": [
    {
     "name": "stdout",
     "output_type": "stream",
     "text": [
      "activo {'intereses_devengados': 1.125, 'intereses_recibidos': 0.0}\n",
      "pasivo {'intereses_pagados': 0.0, 'intereses_devengados': 0.7424999999999999}\n",
      "resultado:  0.3825\n"
     ]
    }
   ],
   "source": [
    "muestra_resultados()"
   ]
  },
  {
   "cell_type": "markdown",
   "metadata": {},
   "source": [
    "## t = 2: Se avanza nuevamente en el tiempo y se determina la nueva situación de liquidez."
   ]
  },
  {
   "cell_type": "code",
   "execution_count": 12,
   "metadata": {},
   "outputs": [
    {
     "name": "stdout",
     "output_type": "stream",
     "text": [
      "Gap de Liquidez a tiempo t =  2\n",
      "       0        1       2        3   4   5   6   7   8   9      10  11  12  \\\n",
      "0  0.3085 -23.2075 -46.566 -23.6462   0   0   0   0   0   0  113.5   0   0   \n",
      "\n",
      "   13  14  15  16  \n",
      "0   0   0   0   0  \n",
      "c46:  22.899\n",
      "\n",
      "activo {'intereses_devengados': 2.25, 'intereses_recibidos': 0.3085}\n",
      "pasivo {'intereses_pagados': 0.702, 'intereses_devengados': 1.1600000000000001}\n",
      "resultado:  0.6965\n",
      "\n",
      "patrimonio {'capital_pagado': -10.0}\n",
      "activo {'inversion': 0.0, 'caja': 0.3085, 'credito': 102.25}\n",
      "pasivo {'depo': -91.86200000000001, 'sobregiro': 0.0}\n",
      "\n",
      "Activos:\n",
      "prod\tplazo\tmonto\tint_dev\tflujo\t\n",
      "credito 12.0 10.0 100.0 2.25 113.5\n",
      "inversion 2.0 0.0 45.702 0.0 46.0105\n",
      "Pasivos:\n",
      "prod\tplazo\tmonto\tint_dev\tflujo\t\n",
      "depo 2.0 0.0 45.0 0.0 45.702\n",
      "depo 4.0 2.0 45.0 0.783 46.566\n",
      "depo 3.0 1.0 22.851 0.1782 23.2075\n",
      "depo 5.0 3.0 22.851 0.1988 23.6462\n"
     ]
    }
   ],
   "source": [
    "# Se avanza un período en el tiempo,\n",
    "avanza()"
   ]
  },
  {
   "cell_type": "code",
   "execution_count": 14,
   "metadata": {},
   "outputs": [
    {
     "name": "stdout",
     "output_type": "stream",
     "text": [
      "Gap de Liquidez a tiempo t =  2\n",
      "       0       1        2        3        4   5   6   7   8   9      10  11  \\\n",
      "0  0.0001 -0.1539 -58.0375 -23.6462 -11.6884   0   0   0   0   0  113.5   0   \n",
      "\n",
      "   12  13  14  15  16  \n",
      "0   0   0   0   0   0  \n",
      "c46:  0.1538\n"
     ]
    }
   ],
   "source": [
    "# Se arregla el C46\n",
    "arregla_c46()"
   ]
  },
  {
   "cell_type": "code",
   "execution_count": 15,
   "metadata": {},
   "outputs": [
    {
     "name": "stdout",
     "output_type": "stream",
     "text": [
      "Activos:\n",
      "prod\tplazo\tmonto\tint_dev\tflujo\t\n",
      "credito 12.0 10.0 100.0 2.25 113.5\n",
      "inversion 2.0 0.0 45.702 0.0 46.0105\n",
      "inversion 3.0 1.0 22.899 0.0 23.0536\n",
      "Pasivos:\n",
      "prod\tplazo\tmonto\tint_dev\tflujo\t\n",
      "depo 2.0 0.0 45.0 0.0 45.702\n",
      "depo 4.0 2.0 45.0 0.783 46.566\n",
      "depo 3.0 1.0 22.851 0.1782 23.2075\n",
      "depo 5.0 3.0 22.851 0.1988 23.6462\n",
      "depo 4.0 2.0 11.2953 0.0 11.4715\n",
      "depo 6.0 4.0 11.2953 0.0 11.6884\n"
     ]
    }
   ],
   "source": [
    "# Notar que el nuevo depo es por un monto menor a la inversión porque partimos con caja > 0.\n",
    "muestra_operaciones(2)"
   ]
  },
  {
   "cell_type": "markdown",
   "metadata": {},
   "source": [
    "### Veamos como queda el balance."
   ]
  },
  {
   "cell_type": "code",
   "execution_count": 16,
   "metadata": {},
   "outputs": [
    {
     "data": {
      "text/plain": [
       "{'activo': {'caja': 0.0001, 'credito': 102.25, 'inversion': 22.899},\n",
       " 'pasivo': {'depo': -114.4526, 'sobregiro': 0.0},\n",
       " 'patrimonio': {'capital_pagado': -10.0}}"
      ]
     },
     "execution_count": 16,
     "metadata": {},
     "output_type": "execute_result"
    }
   ],
   "source": [
    "# Se muestra el balance\n",
    "banco.balance()"
   ]
  },
  {
   "cell_type": "code",
   "execution_count": 17,
   "metadata": {},
   "outputs": [
    {
     "name": "stdout",
     "output_type": "stream",
     "text": [
      "activo {'intereses_devengados': 2.25, 'intereses_recibidos': 0.3085}\n",
      "pasivo {'intereses_pagados': 0.702, 'intereses_devengados': 1.1600000000000001}\n",
      "resultado:  0.6965\n"
     ]
    }
   ],
   "source": [
    "muestra_resultados()"
   ]
  },
  {
   "cell_type": "code",
   "execution_count": 18,
   "metadata": {},
   "outputs": [
    {
     "data": {
      "text/plain": [
       "0.2239511002444988"
      ]
     },
     "execution_count": 18,
     "metadata": {},
     "output_type": "execute_result"
    }
   ],
   "source": [
    "# Se muestra el ratio de inv / col.\n",
    "banco.inv_sobre_col()"
   ]
  },
  {
   "cell_type": "markdown",
   "metadata": {},
   "source": [
    "## t = 3: Se avanza nuevamente en el tiempo y se determina la nueva situación de liquidez."
   ]
  },
  {
   "cell_type": "code",
   "execution_count": 19,
   "metadata": {},
   "outputs": [
    {
     "name": "stdout",
     "output_type": "stream",
     "text": [
      "Gap de Liquidez a tiempo t =  3\n",
      "       0        1        2        3   4   5   6   7   8      9   10  11  12  \\\n",
      "0 -0.1538 -58.0375 -23.6462 -11.6884   0   0   0   0   0  113.5   0   0   0   \n",
      "\n",
      "   13  14  15  16  \n",
      "0   0   0   0   0  \n",
      "c46:  58.1913\n",
      "\n",
      "activo {'intereses_devengados': 3.375, 'intereses_recibidos': 0.46309999999999996}\n",
      "pasivo {'intereses_pagados': 1.0585, 'intereses_devengados': 1.7585000000000002}\n",
      "resultado:  1.0211\n",
      "\n",
      "patrimonio {'capital_pagado': -10.0}\n",
      "activo {'inversion': 0.0, 'caja': 0.0, 'credito': 103.375}\n",
      "pasivo {'depo': -92.20009999999999, 'sobregiro': -0.1538}\n",
      "\n",
      "Activos:\n",
      "prod\tplazo\tmonto\tint_dev\tflujo\t\n",
      "credito 12.0 9.0 100.0 3.375 113.5\n",
      "inversion 2.0 -1.0 45.702 0.0 46.0105\n",
      "inversion 3.0 0.0 22.899 0.0 23.0536\n",
      "Pasivos:\n",
      "prod\tplazo\tmonto\tint_dev\tflujo\t\n",
      "depo 2.0 -1.0 45.0 0.0 45.702\n",
      "depo 4.0 1.0 45.0 1.1745 46.566\n",
      "depo 3.0 0.0 22.851 0.0 23.2075\n",
      "depo 5.0 2.0 22.851 0.3976 23.6462\n",
      "depo 4.0 1.0 11.2953 0.0881 11.4715\n",
      "depo 6.0 3.0 11.2953 0.0983 11.6884\n"
     ]
    }
   ],
   "source": [
    "# Se avanza un período en el tiempo\n",
    "avanza()"
   ]
  },
  {
   "cell_type": "markdown",
   "metadata": {},
   "source": [
    "### Se arregla el C46."
   ]
  },
  {
   "cell_type": "code",
   "execution_count": 20,
   "metadata": {},
   "outputs": [
    {
     "name": "stdout",
     "output_type": "stream",
     "text": [
      "Gap de Liquidez a tiempo t =  3\n",
      "       0       1        2        3        4   5   6   7   8      9   10  11  \\\n",
      "0 -0.0001  0.5466 -53.2738 -11.6884 -30.1877   0   0   0   0  113.5   0   0   \n",
      "\n",
      "   12  13  14  15  16  \n",
      "0   0   0   0   0   0  \n",
      "c46:  -0.5465\n"
     ]
    }
   ],
   "source": [
    "# Se arregla el C46,\n",
    "arregla_c46()"
   ]
  },
  {
   "cell_type": "code",
   "execution_count": 21,
   "metadata": {},
   "outputs": [
    {
     "name": "stdout",
     "output_type": "stream",
     "text": [
      "Activos:\n",
      "prod\tplazo\tmonto\tint_dev\tflujo\t\n",
      "credito 12.0 9.0 100.0 3.375 113.5\n",
      "inversion 2.0 -1.0 45.702 0.0 46.0105\n",
      "inversion 3.0 0.0 22.899 0.0 23.0536\n",
      "inversion 4.0 1.0 58.1913 0.0 58.5841\n",
      "Pasivos:\n",
      "prod\tplazo\tmonto\tint_dev\tflujo\t\n",
      "depo 2.0 -1.0 45.0 0.0 45.702\n",
      "depo 4.0 1.0 45.0 1.1745 46.566\n",
      "depo 3.0 0.0 22.851 0.0 23.2075\n",
      "depo 5.0 2.0 22.851 0.3976 23.6462\n",
      "depo 4.0 1.0 11.2953 0.0881 11.4715\n",
      "depo 6.0 3.0 11.2953 0.0983 11.6884\n",
      "depo 5.0 2.0 29.1725 0.0 29.6276\n",
      "depo 7.0 4.0 29.1725 0.0 30.1877\n"
     ]
    }
   ],
   "source": [
    "muestra_operaciones(3)"
   ]
  },
  {
   "cell_type": "code",
   "execution_count": 22,
   "metadata": {},
   "outputs": [
    {
     "name": "stdout",
     "output_type": "stream",
     "text": [
      "activo {'intereses_devengados': 3.375, 'intereses_recibidos': 0.46309999999999996}\n",
      "pasivo {'intereses_pagados': 1.0585, 'intereses_devengados': 1.7585000000000002}\n",
      "resultado:  1.0211\n"
     ]
    }
   ],
   "source": [
    "muestra_resultados()"
   ]
  },
  {
   "cell_type": "markdown",
   "metadata": {},
   "source": [
    "## t = 4. Volvemos a avanzar."
   ]
  },
  {
   "cell_type": "code",
   "execution_count": 23,
   "metadata": {},
   "outputs": [
    {
     "name": "stdout",
     "output_type": "stream",
     "text": [
      "Gap de Liquidez a tiempo t =  4\n",
      "       0        1        2        3   4   5   6   7      8   9   10  11  12  \\\n",
      "0  0.5465 -53.2738 -11.6884 -30.1877   0   0   0   0  113.5   0   0   0   0   \n",
      "\n",
      "   13  14  15  16  \n",
      "0   0   0   0   0  \n",
      "c46:  52.7273\n",
      "\n",
      "activo {'intereses_devengados': 4.5, 'intereses_recibidos': 0.8558999999999999}\n",
      "pasivo {'intereses_pagados': 2.8007, 'intereses_devengados': 1.2742}\n",
      "resultado:  1.281\n",
      "\n",
      "patrimonio {'capital_pagado': -10.0}\n",
      "activo {'inversion': 0.0, 'caja': 0.5465, 'credito': 104.5}\n",
      "pasivo {'depo': -93.7655, 'sobregiro': 0.0}\n",
      "\n",
      "Activos:\n",
      "prod\tplazo\tmonto\tint_dev\tflujo\t\n",
      "credito 12.0 8.0 100.0 4.5 113.5\n",
      "inversion 2.0 -2.0 45.702 0.0 46.0105\n",
      "inversion 3.0 -1.0 22.899 0.0 23.0536\n",
      "inversion 4.0 0.0 58.1913 0.0 58.5841\n",
      "Pasivos:\n",
      "prod\tplazo\tmonto\tint_dev\tflujo\t\n",
      "depo 2.0 -2.0 45.0 0.0 45.702\n",
      "depo 4.0 0.0 45.0 0.0 46.566\n",
      "depo 3.0 -1.0 22.851 0.0 23.2075\n",
      "depo 5.0 1.0 22.851 0.5964 23.6462\n",
      "depo 4.0 0.0 11.2953 0.0 11.4715\n",
      "depo 6.0 2.0 11.2953 0.1965 11.6884\n",
      "depo 5.0 1.0 29.1725 0.2275 29.6276\n",
      "depo 7.0 3.0 29.1725 0.2538 30.1877\n"
     ]
    }
   ],
   "source": [
    "# Se avanza un período en el tiempo,\n",
    "avanza()"
   ]
  },
  {
   "cell_type": "markdown",
   "metadata": {},
   "source": [
    "### Se arregla el C46."
   ]
  },
  {
   "cell_type": "code",
   "execution_count": 24,
   "metadata": {},
   "outputs": [
    {
     "name": "stdout",
     "output_type": "stream",
     "text": [
      "Gap de Liquidez a tiempo t =  4\n",
      "    0       1        2        3        4   5   6   7      8   9   10  11  12  \\\n",
      "0 -0.0 -0.1906 -38.1858 -30.1877 -26.9983   0   0   0  113.5   0   0   0   0   \n",
      "\n",
      "   13  14  15  16  \n",
      "0   0   0   0   0  \n",
      "c46:  0.1906\n"
     ]
    }
   ],
   "source": [
    "arregla_c46()"
   ]
  },
  {
   "cell_type": "code",
   "execution_count": 25,
   "metadata": {},
   "outputs": [
    {
     "name": "stdout",
     "output_type": "stream",
     "text": [
      "activo {'intereses_devengados': 4.5, 'intereses_recibidos': 0.8558999999999999}\n",
      "pasivo {'intereses_pagados': 2.8007, 'intereses_devengados': 1.2742}\n",
      "resultado:  1.281\n"
     ]
    }
   ],
   "source": [
    "muestra_resultados()"
   ]
  },
  {
   "cell_type": "code",
   "execution_count": 26,
   "metadata": {},
   "outputs": [
    {
     "name": "stdout",
     "output_type": "stream",
     "text": [
      "patrimonio {'capital_pagado': -10.0}\n",
      "activo {'inversion': 52.7273, 'caja': -0.0, 'credito': 104.5}\n",
      "pasivo {'depo': -145.9463, 'sobregiro': 0.0}\n"
     ]
    }
   ],
   "source": [
    "muestra_balance()"
   ]
  },
  {
   "cell_type": "markdown",
   "metadata": {},
   "source": [
    "## t = 5: Volvemos a avanzar."
   ]
  },
  {
   "cell_type": "code",
   "execution_count": 27,
   "metadata": {},
   "outputs": [
    {
     "name": "stdout",
     "output_type": "stream",
     "text": [
      "Gap de Liquidez a tiempo t =  5\n",
      "       0        1        2        3   4   5   6      7   8   9   10  11  12  \\\n",
      "0 -0.1906 -38.1858 -30.1877 -26.9983   0   0   0  113.5   0   0   0   0   0   \n",
      "\n",
      "   13  14  15  16  \n",
      "0   0   0   0   0  \n",
      "c46:  38.3764\n",
      "\n",
      "activo {'intereses_devengados': 5.625, 'intereses_recibidos': 1.2117999999999998}\n",
      "pasivo {'intereses_pagados': 4.051, 'intereses_devengados': 1.2329}\n",
      "resultado:  1.5529\n",
      "\n",
      "patrimonio {'capital_pagado': -10.0}\n",
      "activo {'inversion': 0.0, 'caja': 0.0, 'credito': 105.625}\n",
      "pasivo {'depo': -93.88149999999999, 'sobregiro': -0.1906}\n",
      "\n",
      "Activos:\n",
      "prod\tplazo\tmonto\tint_dev\tflujo\t\n",
      "credito 12.0 7.0 100.0 5.625 113.5\n",
      "inversion 2.0 -3.0 45.702 0.0 46.0105\n",
      "inversion 3.0 -2.0 22.899 0.0 23.0536\n",
      "inversion 4.0 -1.0 58.1913 0.0 58.5841\n",
      "inversion 5.0 0.0 52.7273 0.0 53.0832\n",
      "Pasivos:\n",
      "prod\tplazo\tmonto\tint_dev\tflujo\t\n",
      "depo 2.0 -3.0 45.0 0.0 45.702\n",
      "depo 4.0 -1.0 45.0 0.0 46.566\n",
      "depo 3.0 -2.0 22.851 0.0 23.2075\n",
      "depo 5.0 0.0 22.851 0.0 23.6462\n",
      "depo 4.0 -1.0 11.2953 0.0 11.4715\n",
      "depo 6.0 1.0 11.2953 0.2948 11.6884\n",
      "depo 5.0 0.0 29.1725 0.0 29.6276\n",
      "depo 7.0 2.0 29.1725 0.5076 30.1877\n",
      "depo 6.0 1.0 26.0904 0.2035 26.4974\n",
      "depo 8.0 3.0 26.0904 0.227 26.9983\n"
     ]
    }
   ],
   "source": [
    "# Se avanza un período en el tiempo,\n",
    "avanza()"
   ]
  },
  {
   "cell_type": "code",
   "execution_count": 28,
   "metadata": {},
   "outputs": [
    {
     "name": "stdout",
     "output_type": "stream",
     "text": [
      "Gap de Liquidez a tiempo t =  5\n",
      "    0       1       2        3        4   5   6      7   8   9   10  11  12  \\\n",
      "0 -0.0  0.4496 -49.772 -26.9983 -19.9546   0   0  113.5   0   0   0   0   0   \n",
      "\n",
      "   13  14  15  16  \n",
      "0   0   0   0   0  \n",
      "c46:  -0.4496\n"
     ]
    }
   ],
   "source": [
    "# Arregla el C46\n",
    "arregla_c46()"
   ]
  },
  {
   "cell_type": "markdown",
   "metadata": {},
   "source": [
    "## t = 6: Volvemos a avanzar."
   ]
  },
  {
   "cell_type": "code",
   "execution_count": 29,
   "metadata": {},
   "outputs": [
    {
     "name": "stdout",
     "output_type": "stream",
     "text": [
      "Gap de Liquidez a tiempo t =  6\n",
      "       0       1        2        3   4   5      6   7   8   9   10  11  12  \\\n",
      "0  0.4496 -49.772 -26.9983 -19.9546   0   0  113.5   0   0   0   0   0   0   \n",
      "\n",
      "   13  14  15  16  \n",
      "0   0   0   0   0  \n",
      "c46:  49.3224\n",
      "\n",
      "activo {'intereses_devengados': 6.75, 'intereses_recibidos': 1.4707999999999997}\n",
      "pasivo {'intereses_pagados': 4.8511, 'intereses_devengados': 1.5336}\n",
      "resultado:  1.8361\n",
      "\n",
      "patrimonio {'capital_pagado': -10.0}\n",
      "activo {'inversion': 0.0, 'caja': 0.4496, 'credito': 106.75}\n",
      "pasivo {'depo': -95.36350000000002, 'sobregiro': 0.0}\n",
      "\n",
      "Activos:\n",
      "prod\tplazo\tmonto\tint_dev\tflujo\t\n",
      "credito 12.0 6.0 100.0 6.75 113.5\n",
      "inversion 2.0 -4.0 45.702 0.0 46.0105\n",
      "inversion 3.0 -3.0 22.899 0.0 23.0536\n",
      "inversion 4.0 -2.0 58.1913 0.0 58.5841\n",
      "inversion 5.0 -1.0 52.7273 0.0 53.0832\n",
      "inversion 6.0 0.0 38.3764 0.0 38.6354\n",
      "Pasivos:\n",
      "prod\tplazo\tmonto\tint_dev\tflujo\t\n",
      "depo 2.0 -4.0 45.0 0.0 45.702\n",
      "depo 4.0 -2.0 45.0 0.0 46.566\n",
      "depo 3.0 -3.0 22.851 0.0 23.2075\n",
      "depo 5.0 -1.0 22.851 0.0 23.6462\n",
      "depo 4.0 -2.0 11.2953 0.0 11.4715\n",
      "depo 6.0 0.0 11.2953 0.0 11.6884\n",
      "depo 5.0 -1.0 29.1725 0.0 29.6276\n",
      "depo 7.0 1.0 29.1725 0.7614 30.1877\n",
      "depo 6.0 0.0 26.0904 0.0 26.4974\n",
      "depo 8.0 2.0 26.0904 0.454 26.9983\n",
      "depo 7.0 1.0 19.2835 0.1504 19.5843\n",
      "depo 9.0 3.0 19.2835 0.1678 19.9546\n"
     ]
    }
   ],
   "source": [
    "# Se avanza un período en el tiempo,\n",
    "avanza()"
   ]
  },
  {
   "cell_type": "code",
   "execution_count": 30,
   "metadata": {},
   "outputs": [
    {
     "name": "stdout",
     "output_type": "stream",
     "text": [
      "Gap de Liquidez a tiempo t =  6\n",
      "    0       1        2        3        4   5      6   7   8   9   10  11  12  \\\n",
      "0 -0.0 -0.1167 -51.8159 -19.9546 -25.2868   0  113.5   0   0   0   0   0   0   \n",
      "\n",
      "   13  14  15  16  \n",
      "0   0   0   0   0  \n",
      "c46:  0.1167\n"
     ]
    }
   ],
   "source": [
    "arregla_c46()"
   ]
  },
  {
   "cell_type": "markdown",
   "metadata": {},
   "source": [
    "## t = 7: Volvemos a avanzar"
   ]
  },
  {
   "cell_type": "code",
   "execution_count": 31,
   "metadata": {},
   "outputs": [
    {
     "name": "stdout",
     "output_type": "stream",
     "text": [
      "Gap de Liquidez a tiempo t =  7\n",
      "       0        1        2        3   4      5   6   7   8   9   10  11  12  \\\n",
      "0 -0.1167 -51.8159 -19.9546 -25.2868   0  113.5   0   0   0   0   0   0   0   \n",
      "\n",
      "   13  14  15  16  \n",
      "0   0   0   0   0  \n",
      "c46:  51.9326\n",
      "\n",
      "activo {'intereses_devengados': 7.875, 'intereses_recibidos': 1.8036999999999996}\n",
      "pasivo {'intereses_pagados': 6.1671, 'intereses_devengados': 1.4197000000000002}\n",
      "resultado:  2.0919\n",
      "\n",
      "patrimonio {'capital_pagado': -10.0}\n",
      "activo {'inversion': 0.0, 'caja': 0.0, 'credito': 107.875}\n",
      "pasivo {'depo': -95.6664, 'sobregiro': -0.1167}\n",
      "\n",
      "Activos:\n",
      "prod\tplazo\tmonto\tint_dev\tflujo\t\n",
      "credito 12.0 5.0 100.0 7.875 113.5\n",
      "inversion 2.0 -5.0 45.702 0.0 46.0105\n",
      "inversion 3.0 -4.0 22.899 0.0 23.0536\n",
      "inversion 4.0 -3.0 58.1913 0.0 58.5841\n",
      "inversion 5.0 -2.0 52.7273 0.0 53.0832\n",
      "inversion 6.0 -1.0 38.3764 0.0 38.6354\n",
      "inversion 7.0 0.0 49.3224 0.0 49.6553\n",
      "Pasivos:\n",
      "prod\tplazo\tmonto\tint_dev\tflujo\t\n",
      "depo 2.0 -5.0 45.0 0.0 45.702\n",
      "depo 4.0 -3.0 45.0 0.0 46.566\n",
      "depo 3.0 -4.0 22.851 0.0 23.2075\n",
      "depo 5.0 -2.0 22.851 0.0 23.6462\n",
      "depo 4.0 -3.0 11.2953 0.0 11.4715\n",
      "depo 6.0 -1.0 11.2953 0.0 11.6884\n",
      "depo 5.0 -2.0 29.1725 0.0 29.6276\n",
      "depo 7.0 0.0 29.1725 0.0 30.1877\n",
      "depo 6.0 -1.0 26.0904 0.0 26.4974\n",
      "depo 8.0 1.0 26.0904 0.681 26.9983\n",
      "depo 7.0 0.0 19.2835 0.0 19.5843\n",
      "depo 9.0 2.0 19.2835 0.3355 19.9546\n",
      "depo 8.0 1.0 24.4364 0.1906 24.8176\n",
      "depo 10.0 3.0 24.4364 0.2126 25.2868\n"
     ]
    }
   ],
   "source": [
    "avanza()"
   ]
  },
  {
   "cell_type": "code",
   "execution_count": 32,
   "metadata": {},
   "outputs": [
    {
     "name": "stdout",
     "output_type": "stream",
     "text": [
      "Gap de Liquidez a tiempo t =  7\n",
      "       0       1        2        3        4      5   6   7   8   9   10  11  \\\n",
      "0  0.0001  0.4672 -46.3853 -25.2868 -26.9304  113.5   0   0   0   0   0   0   \n",
      "\n",
      "   12  13  14  15  16  \n",
      "0   0   0   0   0   0  \n",
      "c46:  -0.4673\n"
     ]
    }
   ],
   "source": [
    "arregla_c46()"
   ]
  },
  {
   "cell_type": "markdown",
   "metadata": {},
   "source": [
    "## t = 8. Última iteración."
   ]
  },
  {
   "cell_type": "code",
   "execution_count": 33,
   "metadata": {},
   "outputs": [
    {
     "name": "stdout",
     "output_type": "stream",
     "text": [
      "Gap de Liquidez a tiempo t =  8\n",
      "       0        1        2        3      4   5   6   7   8   9   10  11  12  \\\n",
      "0  0.4673 -46.3853 -25.2868 -26.9304  113.5   0   0   0   0   0   0   0   0   \n",
      "\n",
      "   13  14  15  16  \n",
      "0   0   0   0   0  \n",
      "c46:  45.918\n",
      "\n",
      "activo {'intereses_devengados': 9.0, 'intereses_recibidos': 2.1541999999999994}\n",
      "pasivo {'intereses_pagados': 7.456199999999999, 'intereses_devengados': 1.3578999999999999}\n",
      "resultado:  2.3401\n",
      "\n",
      "patrimonio {'capital_pagado': -10.0}\n",
      "activo {'inversion': 0.0, 'caja': 0.4673, 'credito': 109.0}\n",
      "pasivo {'depo': -97.12719999999999, 'sobregiro': 0.0}\n",
      "\n",
      "Activos:\n",
      "prod\tplazo\tmonto\tint_dev\tflujo\t\n",
      "credito 12.0 4.0 100.0 9.0 113.5\n",
      "inversion 2.0 -6.0 45.702 0.0 46.0105\n",
      "inversion 3.0 -5.0 22.899 0.0 23.0536\n",
      "inversion 4.0 -4.0 58.1913 0.0 58.5841\n",
      "inversion 5.0 -3.0 52.7273 0.0 53.0832\n",
      "inversion 6.0 -2.0 38.3764 0.0 38.6354\n",
      "inversion 7.0 -1.0 49.3224 0.0 49.6553\n",
      "inversion 8.0 0.0 51.9326 0.0 52.2831\n",
      "Pasivos:\n",
      "prod\tplazo\tmonto\tint_dev\tflujo\t\n",
      "depo 2.0 -6.0 45.0 0.0 45.702\n",
      "depo 4.0 -4.0 45.0 0.0 46.566\n",
      "depo 3.0 -5.0 22.851 0.0 23.2075\n",
      "depo 5.0 -3.0 22.851 0.0 23.6462\n",
      "depo 4.0 -4.0 11.2953 0.0 11.4715\n",
      "depo 6.0 -2.0 11.2953 0.0 11.6884\n",
      "depo 5.0 -3.0 29.1725 0.0 29.6276\n",
      "depo 7.0 -1.0 29.1725 0.0 30.1877\n",
      "depo 6.0 -2.0 26.0904 0.0 26.4974\n",
      "depo 8.0 0.0 26.0904 0.0 26.9983\n",
      "depo 7.0 -1.0 19.2835 0.0 19.5843\n",
      "depo 9.0 1.0 19.2835 0.5033 19.9546\n",
      "depo 8.0 0.0 24.4364 0.0 24.8176\n",
      "depo 10.0 2.0 24.4364 0.4252 25.2868\n",
      "depo 9.0 1.0 26.0247 0.203 26.4307\n",
      "depo 11.0 3.0 26.0247 0.2264 26.9304\n"
     ]
    }
   ],
   "source": [
    "avanza()"
   ]
  },
  {
   "cell_type": "code",
   "execution_count": 34,
   "metadata": {},
   "outputs": [
    {
     "name": "stdout",
     "output_type": "stream",
     "text": [
      "Gap de Liquidez a tiempo t =  8\n",
      "       0       1        2        3        4   5   6   7   8   9   10  11  12  \\\n",
      "0 -0.0001 -0.1574 -48.3666 -26.9304  89.9839   0   0   0   0   0   0   0   0   \n",
      "\n",
      "   13  14  15  16  \n",
      "0   0   0   0   0  \n",
      "c46:  0.1575\n"
     ]
    }
   ],
   "source": [
    "arregla_c46()"
   ]
  },
  {
   "cell_type": "code",
   "execution_count": 35,
   "metadata": {},
   "outputs": [
    {
     "name": "stdout",
     "output_type": "stream",
     "text": [
      "activo {'intereses_devengados': 9.0, 'intereses_recibidos': 2.1541999999999994}\n",
      "pasivo {'intereses_pagados': 7.456199999999999, 'intereses_devengados': 1.3578999999999999}\n",
      "resultado:  2.3401\n"
     ]
    }
   ],
   "source": [
    "muestra_resultados()"
   ]
  }
 ],
 "metadata": {
  "kernelspec": {
   "display_name": "Python 2",
   "language": "python",
   "name": "python2"
  },
  "language_info": {
   "codemirror_mode": {
    "name": "ipython",
    "version": 2
   },
   "file_extension": ".py",
   "mimetype": "text/x-python",
   "name": "python",
   "nbconvert_exporter": "python",
   "pygments_lexer": "ipython2",
   "version": "2.7.14"
  }
 },
 "nbformat": 4,
 "nbformat_minor": 2
}
