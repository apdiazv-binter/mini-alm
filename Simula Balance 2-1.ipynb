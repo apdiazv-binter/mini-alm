{
 "cells": [
  {
   "cell_type": "markdown",
   "metadata": {},
   "source": [
    "# Demo de Simulación de Balance - Cantidad de Inversiones"
   ]
  },
  {
   "cell_type": "markdown",
   "metadata": {},
   "source": [
    "## Configuración inicial de librerías"
   ]
  },
  {
   "cell_type": "code",
   "execution_count": 1,
   "metadata": {},
   "outputs": [],
   "source": [
    "# Contiene las clases Operacion, Caja y Banco.\n",
    "import simula_balance as sb\n",
    "\n",
    "# Contiene las reglas de renovación, por ejemplo,\n",
    "# toda la caja a overnight.\n",
    "import reglas_renovacion as rn\n",
    "\n",
    "# Contiene las métricas, por ejemplo, el C46.\n",
    "import metricas as met\n",
    "\n",
    "# Se usa pandas sólo para desplegar claramente el gap de liquidez.\n",
    "import pandas as pd"
   ]
  },
  {
   "cell_type": "markdown",
   "metadata": {},
   "source": [
    "## t = 0: Configuración inicial del Banco"
   ]
  },
  {
   "cell_type": "code",
   "execution_count": 3,
   "metadata": {},
   "outputs": [],
   "source": [
    "# Monto de capital\n",
    "capital = 10.0\n",
    "\n",
    "# Sobre este objeto caen los vencimientos de activos y pasivos.\n",
    "# De aquí se obtiene el dinero para captaciones y colocaciones,\n",
    "# toda operación, al iniciarse, tiene su correspondiente movimiento\n",
    "# en la caja.\n",
    "caja = sb.Caja()\n",
    "\n",
    "# Construimos un Banco muy sencillo con una colocación bullet\n",
    "# y una captación (también bullet).\n",
    "# Lo primero son las tasas de mercado\n",
    "mercado = {'on_col': 0.0, 'on_cap':0.0,\n",
    "           'depo2':0.0312, 'depo3':0.033, 'depo4':0.0348,\n",
    "           'inversion':0.027, 'colocacion':0.045}\n",
    "\n",
    "# Variable que establece los plazos y porcentajes de renovación a cada plazo.\n",
    "# Si tenemos x:y significa que al plazo x (medido en número de períodos)\n",
    "# se hace un y% del monto necesario.\n",
    "plazos = {4:100}\n",
    "\n",
    "\n",
    "# Se construye el crédito\n",
    "credito = sb.Operacion(mercado['colocacion'], 0, 12, 100, {'id':'1', 'ap':'activo', 'producto':'credito'})\n",
    "\n",
    "# En esta lista se almacenarán las operaciones que insertaremos inicialmente en el banco.\n",
    "operaciones = [credito]\n",
    "\n",
    "# Se construye la mezcla de depósitos\n",
    "i = 0\n",
    "for plazo in plazos:\n",
    "    i += 1\n",
    "    codigo_tasa = 'depo' + str(plazo)\n",
    "    ponderador = plazos[plazo] / 100.0\n",
    "    operaciones.append(sb.Operacion(mercado[codigo_tasa], 0, plazo, ponderador * 90,\n",
    "                                    {'id':str(i), 'ap':'pasivo', 'producto':'depo'}))\n",
    "    \n",
    "# Se da de alta el banco inicial\n",
    "banco = sb.Banco(caja, operaciones, capital)"
   ]
  },
  {
   "cell_type": "markdown",
   "metadata": {},
   "source": [
    "Vamos a definir algunas funciones auxiliares que harán menos verboso el ejercicio:"
   ]
  },
  {
   "cell_type": "code",
   "execution_count": 4,
   "metadata": {},
   "outputs": [],
   "source": [
    "def muestra_gap():\n",
    "    # se determina la situación de liquidez y\n",
    "    gap = met.construye_gap_liquidez(banco)\n",
    "    pd_gap = pd.DataFrame([gap()])\n",
    "\n",
    "    # se muestra el resultado.\n",
    "    print \"Gap de Liquidez a tiempo t = \", banco.tiempo_actual()\n",
    "    print pd_gap\n",
    "    print 'c46: ', met.c46(banco, True)\n",
    "    return\n",
    "\n",
    "def muestra_resultados():\n",
    "    # Calcula y muestra el estado de resultados\n",
    "    er = banco.estado_resultados()\n",
    "    resultado = 0.0\n",
    "    for key in er:\n",
    "        print key, er[key]\n",
    "        if key == 'activo':\n",
    "            for interes in er[key]:\n",
    "                resultado += er[key][interes]\n",
    "        else:\n",
    "            for interes in er[key]:\n",
    "                resultado -= er[key][interes]\n",
    "    print \"resultado: \", resultado\n",
    "    return\n",
    "\n",
    "def muestra_balance():\n",
    "    # Calcula y muestra el balance\n",
    "    bal = banco.balance()\n",
    "    for key in bal:\n",
    "        print key, bal[key]\n",
    "    return\n",
    "\n",
    "def muestra_operaciones(t):\n",
    "    # Muestra los flujos de las operaciones del banco\n",
    "    activos = banco.activos()\n",
    "    print 'Activos:'\n",
    "    print 'prod\\t', 'plazo\\t', 'monto\\t', 'int_dev\\t', 'flujo\\t'\n",
    "    for act in activos:\n",
    "        print act.atributos()['producto'], act.vencimiento(), act.vencimiento() - t, act.monto(), act.interes_devengado(t), act.flujo()\n",
    "        \n",
    "    pasivos = banco.pasivos()\n",
    "    print 'Pasivos:'\n",
    "    print 'prod\\t', 'plazo\\t', 'monto\\t', 'int_dev\\t', 'flujo\\t'\n",
    "    for pas in pasivos:\n",
    "        print pas.atributos()['producto'], pas.vencimiento(), pas.vencimiento() - t, pas.monto(), pas.interes_devengado(t), pas.flujo()\n",
    "\n",
    "def avanza():\n",
    "    # Se avanza un período en el tiempo,\n",
    "    banco.avanza()\n",
    "    return\n",
    "    \n",
    "def renueva_depo():\n",
    "    # Se renueva el depósito\n",
    "    rn.renueva_depos(banco, plazos)\n",
    "\n",
    "    # se determina la nueva situación de liquidez y\n",
    "    # se muestra\n",
    "    muestra_gap()\n",
    "    return\n",
    "\n",
    "def toma_inversiones():\n",
    "    # Se renueva la inversión\n",
    "    rn.inversion(banco)\n",
    "\n",
    "    # se determina la nueva situación de liquidez y\n",
    "    # se muestra.\n",
    "    muestra_gap()\n",
    "    return\n",
    "\n",
    "def arregla_c46():\n",
    "    # Se arregla el C46,\n",
    "    rn.cumple_c46(banco, plazos, True)\n",
    "\n",
    "    # Se muestra gap\n",
    "    muestra_gap()\n",
    "    return\n",
    "\n",
    "def muestra_cartera():\n",
    "    # Muestra la cartera de operaciones a fecha actual del banco\n",
    "    for op in banco.cartera():\n",
    "        print op\n",
    "    return\n",
    "\n",
    "def muestra_ratio():\n",
    "    # Muestra el ratio inversiones / colocaciones\n",
    "    print round(banco.inv_sobre_col() * 100)"
   ]
  },
  {
   "cell_type": "markdown",
   "metadata": {},
   "source": [
    "Se construye y muestra el gap de liquidez inicial del banco."
   ]
  },
  {
   "cell_type": "code",
   "execution_count": 5,
   "metadata": {},
   "outputs": [
    {
     "name": "stdout",
     "output_type": "stream",
     "text": [
      "Gap de Liquidez a tiempo t =  0\n",
      "    0   1   2   3       4   5   6   7   8   9   10  11     12  13  14  15  16\n",
      "0  0.0   0   0   0 -93.132   0   0   0   0   0   0   0  113.5   0   0   0   0\n",
      "c46:  -0.0\n"
     ]
    }
   ],
   "source": [
    "muestra_gap()"
   ]
  },
  {
   "cell_type": "markdown",
   "metadata": {},
   "source": [
    "Se muestra el estado de resultados inicial."
   ]
  },
  {
   "cell_type": "code",
   "execution_count": 6,
   "metadata": {},
   "outputs": [
    {
     "name": "stdout",
     "output_type": "stream",
     "text": [
      "activo {'intereses_devengados': 0.0, 'intereses_recibidos': 0.0}\n",
      "pasivo {'intereses_pagados': 0.0, 'intereses_devengados': 0.0}\n",
      "resultado:  0.0\n"
     ]
    }
   ],
   "source": [
    "muestra_resultados()"
   ]
  },
  {
   "cell_type": "markdown",
   "metadata": {},
   "source": [
    "Se muestra el balance inicial."
   ]
  },
  {
   "cell_type": "code",
   "execution_count": 7,
   "metadata": {},
   "outputs": [
    {
     "name": "stdout",
     "output_type": "stream",
     "text": [
      "patrimonio {'capital_pagado': -10.0}\n",
      "activo {'caja': 0.0, 'credito': 100.0}\n",
      "pasivo {'depo': -90.0, 'sobregiro': 0.0}\n"
     ]
    }
   ],
   "source": [
    "muestra_balance()"
   ]
  },
  {
   "cell_type": "markdown",
   "metadata": {},
   "source": [
    "## t = 1: Se avanza un período en el tiempo."
   ]
  },
  {
   "cell_type": "code",
   "execution_count": 8,
   "metadata": {},
   "outputs": [],
   "source": [
    "avanza()"
   ]
  },
  {
   "cell_type": "markdown",
   "metadata": {},
   "source": [
    "Veamos las operaciones y su resultado, para cada operación se muestra:\n",
    "- activo/pasivo\n",
    "- producto\n",
    "- id\n",
    "- tiempo inicio\n",
    "- plazo\n",
    "- monto inicial\n",
    "- tasa\n",
    "- interés devengado\n",
    "- interés recibido/pagado"
   ]
  },
  {
   "cell_type": "code",
   "execution_count": 9,
   "metadata": {},
   "outputs": [
    {
     "name": "stdout",
     "output_type": "stream",
     "text": [
      "('activo', 'credito', '1', 0.0, 12.0, 100.0, 0.045, 1.125, 0.0)\n",
      "('pasivo', 'depo', '1', 0.0, 4.0, -90.0, 0.0348, -0.783, -0.0)\n"
     ]
    }
   ],
   "source": [
    "muestra_cartera()"
   ]
  },
  {
   "cell_type": "markdown",
   "metadata": {},
   "source": [
    "Verifiquemos el cálculo de interés devengado:"
   ]
  },
  {
   "cell_type": "code",
   "execution_count": 10,
   "metadata": {},
   "outputs": [
    {
     "name": "stdout",
     "output_type": "stream",
     "text": [
      "credito: 1.125\n",
      "depo: -0.783\n"
     ]
    }
   ],
   "source": [
    "print 'credito:', 100 * 0.045 * 3 / 12.0\n",
    "print 'depo:', -90 * .0348 * 3 / 12.0 "
   ]
  },
  {
   "cell_type": "markdown",
   "metadata": {},
   "source": [
    "Veamos el gap de liquidez y C46."
   ]
  },
  {
   "cell_type": "code",
   "execution_count": 11,
   "metadata": {},
   "outputs": [
    {
     "name": "stdout",
     "output_type": "stream",
     "text": [
      "Gap de Liquidez a tiempo t =  1\n",
      "    0   1   2       3   4   5   6   7   8   9   10     11  12  13  14  15  16\n",
      "0  0.0   0   0 -93.132   0   0   0   0   0   0   0  113.5   0   0   0   0   0\n",
      "c46:  -0.0\n"
     ]
    }
   ],
   "source": [
    "muestra_gap()"
   ]
  },
  {
   "cell_type": "markdown",
   "metadata": {},
   "source": [
    "## t = 2: Se avanza nuevamente en el tiempo."
   ]
  },
  {
   "cell_type": "code",
   "execution_count": 12,
   "metadata": {},
   "outputs": [],
   "source": [
    "avanza()"
   ]
  },
  {
   "cell_type": "markdown",
   "metadata": {},
   "source": [
    "Veamos el resultado de las operaciones:"
   ]
  },
  {
   "cell_type": "code",
   "execution_count": 13,
   "metadata": {},
   "outputs": [
    {
     "name": "stdout",
     "output_type": "stream",
     "text": [
      "('activo', 'credito', '1', 0.0, 12.0, 100.0, 0.045, 2.25, 0.0)\n",
      "('pasivo', 'depo', '1', 0.0, 4.0, -90.0, 0.0348, -1.566, -0.0)\n"
     ]
    }
   ],
   "source": [
    "muestra_cartera()"
   ]
  },
  {
   "cell_type": "markdown",
   "metadata": {},
   "source": [
    "Chequeo de intereses:"
   ]
  },
  {
   "cell_type": "code",
   "execution_count": 15,
   "metadata": {},
   "outputs": [
    {
     "name": "stdout",
     "output_type": "stream",
     "text": [
      "credito: 2.25\n",
      "depo-1: -1.566\n"
     ]
    }
   ],
   "source": [
    "print 'credito:', round(100 * 0.045 * 6 / 12, 4)\n",
    "print 'depo-1:', round(-90 * .0348 * 6 / 12, 4)"
   ]
  },
  {
   "cell_type": "markdown",
   "metadata": {},
   "source": [
    "Veamos el gap de liquidez."
   ]
  },
  {
   "cell_type": "code",
   "execution_count": 16,
   "metadata": {},
   "outputs": [
    {
     "name": "stdout",
     "output_type": "stream",
     "text": [
      "Gap de Liquidez a tiempo t =  2\n",
      "    0   1       2   3   4   5   6   7   8   9      10  11  12  13  14  15  16\n",
      "0  0.0   0 -93.132   0   0   0   0   0   0   0  113.5   0   0   0   0   0   0\n",
      "c46:  -0.0\n"
     ]
    }
   ],
   "source": [
    "muestra_gap()"
   ]
  },
  {
   "cell_type": "markdown",
   "metadata": {},
   "source": [
    "## t = 3: Se avanza nuevamente en el tiempo."
   ]
  },
  {
   "cell_type": "code",
   "execution_count": 17,
   "metadata": {},
   "outputs": [],
   "source": [
    "avanza()"
   ]
  },
  {
   "cell_type": "markdown",
   "metadata": {},
   "source": [
    "Veamos resultado."
   ]
  },
  {
   "cell_type": "code",
   "execution_count": 18,
   "metadata": {},
   "outputs": [
    {
     "name": "stdout",
     "output_type": "stream",
     "text": [
      "('activo', 'credito', '1', 0.0, 12.0, 100.0, 0.045, 3.375, 0.0)\n",
      "('pasivo', 'depo', '1', 0.0, 4.0, -90.0, 0.0348, -2.349, -0.0)\n"
     ]
    }
   ],
   "source": [
    "muestra_cartera()"
   ]
  },
  {
   "cell_type": "markdown",
   "metadata": {},
   "source": [
    "Verifiquemos:"
   ]
  },
  {
   "cell_type": "code",
   "execution_count": 19,
   "metadata": {},
   "outputs": [
    {
     "name": "stdout",
     "output_type": "stream",
     "text": [
      "credito: 3.375\n",
      "depo-1: -2.349\n"
     ]
    }
   ],
   "source": [
    "print 'credito:', round(100 * 0.045 * 9 / 12, 4)\n",
    "print 'depo-1:', round(-90 * .0348 * 9 / 12, 4)"
   ]
  },
  {
   "cell_type": "markdown",
   "metadata": {},
   "source": [
    "Veamos el gap de liquidez."
   ]
  },
  {
   "cell_type": "code",
   "execution_count": 20,
   "metadata": {},
   "outputs": [
    {
     "name": "stdout",
     "output_type": "stream",
     "text": [
      "Gap de Liquidez a tiempo t =  3\n",
      "    0       1   2   3   4   5   6   7   8      9   10  11  12  13  14  15  16\n",
      "0  0.0 -93.132   0   0   0   0   0   0   0  113.5   0   0   0   0   0   0   0\n",
      "c46:  93.132\n"
     ]
    }
   ],
   "source": [
    "muestra_gap()"
   ]
  },
  {
   "cell_type": "markdown",
   "metadata": {},
   "source": [
    "Se arregla el C46."
   ]
  },
  {
   "cell_type": "code",
   "execution_count": 21,
   "metadata": {},
   "outputs": [
    {
     "name": "stdout",
     "output_type": "stream",
     "text": [
      "Gap de Liquidez a tiempo t =  3\n",
      "    0       1   2   3       4   5   6   7   8      9   10  11  12  13  14  15  \\\n",
      "0  0.0  0.6286   0   0 -96.373   0   0   0   0  113.5   0   0   0   0   0   0   \n",
      "\n",
      "   16  \n",
      "0   0  \n",
      "c46:  -0.6286\n"
     ]
    }
   ],
   "source": [
    "arregla_c46()"
   ]
  },
  {
   "cell_type": "code",
   "execution_count": 22,
   "metadata": {},
   "outputs": [
    {
     "name": "stdout",
     "output_type": "stream",
     "text": [
      "('activo', 'credito', '1', 0.0, 12.0, 100.0, 0.045, 3.375, 0.0)\n",
      "('activo', 'inversion', '3-inv', 3.0, 4.0, 93.132, 0.027, 0.0, 0.0)\n",
      "('pasivo', 'depo', '1', 0.0, 4.0, -90.0, 0.0348, -2.349, -0.0)\n",
      "('pasivo', 'depo', '3-fin_inv', 3.0, 7.0, -93.132, 0.0348, -0.0, -0.0)\n"
     ]
    }
   ],
   "source": [
    "muestra_cartera()"
   ]
  },
  {
   "cell_type": "markdown",
   "metadata": {},
   "source": [
    "## t = 4. Volvemos a avanzar."
   ]
  },
  {
   "cell_type": "code",
   "execution_count": 23,
   "metadata": {},
   "outputs": [],
   "source": [
    "avanza()"
   ]
  },
  {
   "cell_type": "markdown",
   "metadata": {},
   "source": [
    "Veamos resultados."
   ]
  },
  {
   "cell_type": "code",
   "execution_count": 24,
   "metadata": {},
   "outputs": [
    {
     "name": "stdout",
     "output_type": "stream",
     "text": [
      "('activo', 'credito', '1', 0.0, 12.0, 100.0, 0.045, 4.5, 0.0)\n",
      "('activo', 'inversion', '3-inv', 3.0, 4.0, 93.132, 0.027, 0.0, 0.6286)\n",
      "('pasivo', 'depo', '1', 0.0, 4.0, -90.0, 0.0348, -0.0, -3.132)\n",
      "('pasivo', 'depo', '3-fin_inv', 3.0, 7.0, -93.132, 0.0348, -0.8102, -0.0)\n"
     ]
    }
   ],
   "source": [
    "muestra_cartera()"
   ]
  },
  {
   "cell_type": "markdown",
   "metadata": {},
   "source": [
    "Verifiquemos."
   ]
  },
  {
   "cell_type": "code",
   "execution_count": 32,
   "metadata": {},
   "outputs": [
    {
     "name": "stdout",
     "output_type": "stream",
     "text": [
      "credito: 4.5\n",
      "3-inv: 0.6286\n",
      "depo-1: -3.132\n",
      "3-fin_inv -0.8102\n"
     ]
    }
   ],
   "source": [
    "print 'credito:', round(100 * 0.045 * 12 / 12, 4)\n",
    "print '3-inv:', round(93.132 * 0.027 * 3 / 12, 4)\n",
    "print 'depo-1:', round(-90 * .0348 * 12 / 12, 4)\n",
    "print '3-fin_inv', round(-93.132 * 0.0348 * 3 / 12, 4)"
   ]
  },
  {
   "cell_type": "markdown",
   "metadata": {},
   "source": [
    "Veamos el gap."
   ]
  },
  {
   "cell_type": "code",
   "execution_count": 33,
   "metadata": {},
   "outputs": [
    {
     "name": "stdout",
     "output_type": "stream",
     "text": [
      "Gap de Liquidez a tiempo t =  4\n",
      "       0   1   2       3   4   5   6   7      8   9   10  11  12  13  14  15  \\\n",
      "0  0.6286   0   0 -96.373   0   0   0   0  113.5   0   0   0   0   0   0   0   \n",
      "\n",
      "   16  \n",
      "0   0  \n",
      "c46:  -0.6286\n"
     ]
    }
   ],
   "source": [
    "muestra_gap()"
   ]
  },
  {
   "cell_type": "markdown",
   "metadata": {},
   "source": [
    "Activo la caja residual."
   ]
  },
  {
   "cell_type": "code",
   "execution_count": 34,
   "metadata": {},
   "outputs": [
    {
     "name": "stdout",
     "output_type": "stream",
     "text": [
      "Gap de Liquidez a tiempo t =  4\n",
      "    0       1   2       3   4   5   6   7      8   9   10  11  12  13  14  15  \\\n",
      "0 -0.0  0.6328   0 -96.373   0   0   0   0  113.5   0   0   0   0   0   0   0   \n",
      "\n",
      "   16  \n",
      "0   0  \n",
      "c46:  -0.6328\n"
     ]
    }
   ],
   "source": [
    "toma_inversiones()"
   ]
  },
  {
   "cell_type": "markdown",
   "metadata": {},
   "source": [
    "Vemos la cartera."
   ]
  },
  {
   "cell_type": "code",
   "execution_count": 35,
   "metadata": {},
   "outputs": [
    {
     "name": "stdout",
     "output_type": "stream",
     "text": [
      "('activo', 'credito', '1', 0.0, 12.0, 100.0, 0.045, 4.5, 0.0)\n",
      "('activo', 'inversion', '3-inv', 3.0, 4.0, 93.132, 0.027, 0.0, 0.6286)\n",
      "('activo', 'inversion', 'inv-4-1', 4.0, 5.0, 0.6286, 0.027, 0.0, 0.0)\n",
      "('pasivo', 'depo', '1', 0.0, 4.0, -90.0, 0.0348, -0.0, -3.132)\n",
      "('pasivo', 'depo', '3-fin_inv', 3.0, 7.0, -93.132, 0.0348, -0.8102, -0.0)\n"
     ]
    }
   ],
   "source": [
    "muestra_cartera()"
   ]
  },
  {
   "cell_type": "markdown",
   "metadata": {},
   "source": [
    "## t = 5: Volvemos a avanzar, mostramos el gap y activamos caja."
   ]
  },
  {
   "cell_type": "code",
   "execution_count": 36,
   "metadata": {},
   "outputs": [],
   "source": [
    "avanza()"
   ]
  },
  {
   "cell_type": "code",
   "execution_count": 37,
   "metadata": {},
   "outputs": [
    {
     "name": "stdout",
     "output_type": "stream",
     "text": [
      "Gap de Liquidez a tiempo t =  5\n",
      "       0   1       2   3   4   5   6      7   8   9   10  11  12  13  14  15  \\\n",
      "0  0.6328   0 -96.373   0   0   0   0  113.5   0   0   0   0   0   0   0   0   \n",
      "\n",
      "   16  \n",
      "0   0  \n",
      "c46:  -0.6328\n"
     ]
    }
   ],
   "source": [
    "muestra_gap()"
   ]
  },
  {
   "cell_type": "code",
   "execution_count": 38,
   "metadata": {},
   "outputs": [
    {
     "name": "stdout",
     "output_type": "stream",
     "text": [
      "Gap de Liquidez a tiempo t =  5\n",
      "    0       1       2   3   4   5   6      7   8   9   10  11  12  13  14  15  \\\n",
      "0 -0.0  0.6371 -96.373   0   0   0   0  113.5   0   0   0   0   0   0   0   0   \n",
      "\n",
      "   16  \n",
      "0   0  \n",
      "c46:  -0.6371\n"
     ]
    }
   ],
   "source": [
    "toma_inversiones()"
   ]
  },
  {
   "cell_type": "code",
   "execution_count": 39,
   "metadata": {},
   "outputs": [
    {
     "name": "stdout",
     "output_type": "stream",
     "text": [
      "('activo', 'credito', '1', 0.0, 12.0, 100.0, 0.045, 5.625, 0.0)\n",
      "('activo', 'inversion', '3-inv', 3.0, 4.0, 93.132, 0.027, 0.0, 0.6286)\n",
      "('activo', 'inversion', 'inv-4-1', 4.0, 5.0, 0.6286, 0.027, 0.0, 0.0042)\n",
      "('activo', 'inversion', 'inv-5-1', 5.0, 6.0, 0.6328, 0.027, 0.0, 0.0)\n",
      "('pasivo', 'depo', '1', 0.0, 4.0, -90.0, 0.0348, -0.0, -3.132)\n",
      "('pasivo', 'depo', '3-fin_inv', 3.0, 7.0, -93.132, 0.0348, -1.6205, -0.0)\n"
     ]
    }
   ],
   "source": [
    "muestra_cartera()"
   ]
  },
  {
   "cell_type": "markdown",
   "metadata": {},
   "source": [
    "## t = 6:Volvemos a avanzar, mostramos el gap y arreglamos C46."
   ]
  },
  {
   "cell_type": "code",
   "execution_count": 40,
   "metadata": {},
   "outputs": [],
   "source": [
    "avanza()"
   ]
  },
  {
   "cell_type": "code",
   "execution_count": 41,
   "metadata": {},
   "outputs": [
    {
     "name": "stdout",
     "output_type": "stream",
     "text": [
      "Gap de Liquidez a tiempo t =  6\n",
      "       0       1   2   3   4   5      6   7   8   9   10  11  12  13  14  15  \\\n",
      "0  0.6371 -96.373   0   0   0   0  113.5   0   0   0   0   0   0   0   0   0   \n",
      "\n",
      "   16  \n",
      "0   0  \n",
      "c46:  95.7359\n"
     ]
    }
   ],
   "source": [
    "muestra_gap()"
   ]
  },
  {
   "cell_type": "code",
   "execution_count": 42,
   "metadata": {},
   "outputs": [
    {
     "name": "stdout",
     "output_type": "stream",
     "text": [
      "Gap de Liquidez a tiempo t =  6\n",
      "    0       1   2   3        4   5      6   7   8   9   10  11  12  13  14  \\\n",
      "0 -0.0  0.0091   0   0 -98.4082   0  113.5   0   0   0   0   0   0   0   0   \n",
      "\n",
      "   15  16  \n",
      "0   0   0  \n",
      "c46:  -0.00909999999999\n"
     ]
    }
   ],
   "source": [
    "arregla_c46()"
   ]
  },
  {
   "cell_type": "markdown",
   "metadata": {},
   "source": [
    "## t = 7: Volvemos a avanzar, mostramos el gap y arreglamos C46."
   ]
  },
  {
   "cell_type": "code",
   "execution_count": 43,
   "metadata": {},
   "outputs": [],
   "source": [
    "avanza()"
   ]
  },
  {
   "cell_type": "code",
   "execution_count": 44,
   "metadata": {},
   "outputs": [
    {
     "name": "stdout",
     "output_type": "stream",
     "text": [
      "Gap de Liquidez a tiempo t =  7\n",
      "       0   1   2        3   4      5   6   7   8   9   10  11  12  13  14  15  \\\n",
      "0  0.0091   0   0 -98.4082   0  113.5   0   0   0   0   0   0   0   0   0   0   \n",
      "\n",
      "   16  \n",
      "0   0  \n",
      "c46:  -0.0091\n"
     ]
    }
   ],
   "source": [
    "muestra_gap()"
   ]
  },
  {
   "cell_type": "code",
   "execution_count": 45,
   "metadata": {},
   "outputs": [
    {
     "name": "stdout",
     "output_type": "stream",
     "text": [
      "Gap de Liquidez a tiempo t =  7\n",
      "    0       1   2        3   4      5   6   7   8   9   10  11  12  13  14  \\\n",
      "0 -0.0  0.0092   0 -98.4082   0  113.5   0   0   0   0   0   0   0   0   0   \n",
      "\n",
      "   15  16  \n",
      "0   0   0  \n",
      "c46:  -0.0092\n"
     ]
    }
   ],
   "source": [
    "toma_inversiones()"
   ]
  },
  {
   "cell_type": "markdown",
   "metadata": {},
   "source": [
    "## t = 8. Última iteración."
   ]
  },
  {
   "cell_type": "code",
   "execution_count": 46,
   "metadata": {},
   "outputs": [],
   "source": [
    "avanza()"
   ]
  },
  {
   "cell_type": "code",
   "execution_count": 47,
   "metadata": {},
   "outputs": [
    {
     "name": "stdout",
     "output_type": "stream",
     "text": [
      "Gap de Liquidez a tiempo t =  8\n",
      "       0   1        2   3      4   5   6   7   8   9   10  11  12  13  14  15  \\\n",
      "0  0.0092   0 -98.4082   0  113.5   0   0   0   0   0   0   0   0   0   0   0   \n",
      "\n",
      "   16  \n",
      "0   0  \n",
      "c46:  -0.0092\n"
     ]
    }
   ],
   "source": [
    "muestra_gap()"
   ]
  },
  {
   "cell_type": "code",
   "execution_count": 48,
   "metadata": {},
   "outputs": [
    {
     "name": "stdout",
     "output_type": "stream",
     "text": [
      "Gap de Liquidez a tiempo t =  8\n",
      "    0       1        2   3      4   5   6   7   8   9   10  11  12  13  14  \\\n",
      "0 -0.0  0.0093 -98.4082   0  113.5   0   0   0   0   0   0   0   0   0   0   \n",
      "\n",
      "   15  16  \n",
      "0   0   0  \n",
      "c46:  -0.0093\n"
     ]
    }
   ],
   "source": [
    "toma_inversiones()"
   ]
  },
  {
   "cell_type": "code",
   "execution_count": 49,
   "metadata": {},
   "outputs": [
    {
     "name": "stdout",
     "output_type": "stream",
     "text": [
      "activo {'intereses_devengados': 9.0, 'intereses_recibidos': 1.2834}\n",
      "pasivo {'intereses_pagados': 6.373, 'intereses_devengados': 1.6547}\n",
      "resultado:  2.2557\n"
     ]
    }
   ],
   "source": [
    "muestra_resultados()"
   ]
  },
  {
   "cell_type": "code",
   "execution_count": 50,
   "metadata": {},
   "outputs": [
    {
     "name": "stdout",
     "output_type": "stream",
     "text": [
      "('activo', 'credito', '1', 0.0, 12.0, 100.0, 0.045, 9.0, 0.0)\n",
      "('activo', 'inversion', '3-inv', 3.0, 4.0, 93.132, 0.027, 0.0, 0.6286)\n",
      "('activo', 'inversion', 'inv-4-1', 4.0, 5.0, 0.6286, 0.027, 0.0, 0.0042)\n",
      "('activo', 'inversion', 'inv-5-1', 5.0, 6.0, 0.6328, 0.027, 0.0, 0.0043)\n",
      "('activo', 'inversion', '6-inv', 6.0, 7.0, 95.7359, 0.027, 0.0, 0.6462)\n",
      "('activo', 'inversion', 'inv-7-1', 7.0, 8.0, 0.0091, 0.027, 0.0, 0.0001)\n",
      "('activo', 'inversion', 'inv-8-1', 8.0, 9.0, 0.0092, 0.027, 0.0, 0.0)\n",
      "('pasivo', 'depo', '1', 0.0, 4.0, -90.0, 0.0348, -0.0, -3.132)\n",
      "('pasivo', 'depo', '3-fin_inv', 3.0, 7.0, -93.132, 0.0348, -0.0, -3.241)\n",
      "('pasivo', 'depo', '6-fin_inv', 6.0, 10.0, -95.0988, 0.0348, -1.6547, -0.0)\n"
     ]
    }
   ],
   "source": [
    "muestra_cartera()"
   ]
  }
 ],
 "metadata": {
  "kernelspec": {
   "display_name": "Python 2",
   "language": "python",
   "name": "python2"
  },
  "language_info": {
   "codemirror_mode": {
    "name": "ipython",
    "version": 2
   },
   "file_extension": ".py",
   "mimetype": "text/x-python",
   "name": "python",
   "nbconvert_exporter": "python",
   "pygments_lexer": "ipython2",
   "version": "2.7.14"
  }
 },
 "nbformat": 4,
 "nbformat_minor": 2
}
